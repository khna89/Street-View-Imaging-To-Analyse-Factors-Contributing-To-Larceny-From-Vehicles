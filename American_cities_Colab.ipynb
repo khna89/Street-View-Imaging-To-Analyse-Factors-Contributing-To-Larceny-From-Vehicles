{
  "cells": [
    {
      "cell_type": "code",
      "execution_count": null,
      "metadata": {
        "id": "idfF1SwjgCED"
      },
      "outputs": [],
      "source": [
        "from google.colab import drive\n",
        "import os\n",
        "import pandas as pd\n",
        "import matplotlib.pyplot as plt\n",
        "import numpy as np\n",
        "from geopy.distance import geodesic\n",
        "from geopy.point import Point\n",
        "from sklearn.metrics.pairwise import haversine_distances\n",
        "from math import radians\n",
        "import torch\n",
        "import torch.nn.functional as F\n",
        "from sklearn.metrics import f1_score\n",
        "#from sklearn.metrics import accuracy_score\n",
        "from torch.utils.data import Dataset, DataLoader\n",
        "from PIL import Image\n",
        "import torch.nn as nn\n",
        "import torch.optim as optim\n",
        "import torchvision.transforms as transforms\n",
        "import torchvision.datasets as datasets\n",
        "from torch.utils.data import random_split\n",
        "from torch.optim import Adam\n",
        "from torch.optim.lr_scheduler import ReduceLROnPlateau"
      ]
    },
    {
      "cell_type": "code",
      "execution_count": null,
      "metadata": {
        "colab": {
          "base_uri": "https://localhost:8080/"
        },
        "id": "64adM3dVX-CH",
        "outputId": "5c7f431e-009a-43ff-e78e-64f5341f8f01"
      },
      "outputs": [
        {
          "name": "stdout",
          "output_type": "stream",
          "text": [
            "Using device: cuda\n",
            "\n"
          ]
        }
      ],
      "source": [
        "device = torch.device('cuda' if torch.cuda.is_available() else 'cpu')\n",
        "print('Using device:', device)\n",
        "print()\n"
      ]
    },
    {
      "cell_type": "code",
      "execution_count": null,
      "metadata": {
        "colab": {
          "base_uri": "https://localhost:8080/"
        },
        "id": "5rMCNRmRgLKn",
        "outputId": "f72c9226-75bb-4879-a4fe-d80506ca4327"
      },
      "outputs": [
        {
          "name": "stdout",
          "output_type": "stream",
          "text": [
            "Mounted at /content/drive\n"
          ]
        }
      ],
      "source": [
        "drive.mount( '/content/drive', force_remount=True )"
      ]
    },
    {
      "cell_type": "code",
      "execution_count": null,
      "metadata": {
        "id": "6ZVH_47JgCEE"
      },
      "outputs": [],
      "source": [
        "PATH = \"/content/drive/MyDrive/for thesis\" #change to the path to your folder with datasets and images\n",
        "os.chdir(PATH)"
      ]
    },
    {
      "cell_type": "code",
      "execution_count": null,
      "metadata": {
        "colab": {
          "base_uri": "https://localhost:8080/"
        },
        "id": "YetCb6iigCEE",
        "outputId": "7ce4c161-99cc-4e58-c9ef-ab22550b3a9e"
      },
      "outputs": [
        {
          "name": "stdout",
          "output_type": "stream",
          "text": [
            "           0           1\n",
            "0  40.864413  -73.893292\n",
            "1  38.884714  -76.927431\n",
            "2  42.367025  -83.115961\n",
            "3  37.798462 -122.423526\n",
            "4  41.699542  -87.690806\n"
          ]
        }
      ],
      "source": [
        "# Load the coordinates of all the images of the City Street View Dataset\n",
        "#dataset available here: https://www.kaggle.com/datasets/stelath/city-street-view-dataset\n",
        "gsv = pd.read_csv('picture_coords.csv',header=None)\n",
        "print(gsv.head())"
      ]
    },
    {
      "cell_type": "markdown",
      "metadata": {
        "id": "BH45Gn-wgCEI"
      },
      "source": [
        "## Exploring police data"
      ]
    },
    {
      "cell_type": "markdown",
      "metadata": {
        "id": "fr3Mavi9bG0H"
      },
      "source": [
        "A popular dataset about San Francisco that contains information about its residents is the San Francisco Police Department (SFPD) Incident Report dataset. It includes information such as the time, location, and category of incidents that have been reported to the SFPD. The location data is given in the form of longitude and latitude, which can be mapped to the specific block, district, or street. The dataset is available for download on the San Francisco OpenData website: https://data.sfgov.org/Public-Safety/Police-Department-Incident-Reports-2018-to-Present/wg3w-h783 \n",
        "\n",
        "Let's load it and see what's in there."
      ]
    },
    {
      "cell_type": "code",
      "execution_count": null,
      "metadata": {
        "colab": {
          "base_uri": "https://localhost:8080/",
          "height": 1000
        },
        "id": "ezrrV1sdgCEJ",
        "outputId": "54ed0f42-f7cd-49b9-b412-0a92c1045730"
      },
      "outputs": [
        {
          "name": "stdout",
          "output_type": "stream",
          "text": [
            "Index(['Incident Datetime', 'Incident Date', 'Incident Time', 'Incident Year',\n",
            "       'Incident Day of Week', 'Report Datetime', 'Row ID', 'Incident ID',\n",
            "       'Incident Number', 'CAD Number', 'Report Type Code',\n",
            "       'Report Type Description', 'Filed Online', 'Incident Code',\n",
            "       'Incident Category', 'Incident Subcategory', 'Incident Description',\n",
            "       'Resolution', 'Intersection', 'CNN', 'Police District',\n",
            "       'Analysis Neighborhood', 'Supervisor District', 'Latitude', 'Longitude',\n",
            "       'Point', 'Neighborhoods', 'ESNCAG - Boundary File',\n",
            "       'Central Market/Tenderloin Boundary Polygon - Updated',\n",
            "       'Civic Center Harm Reduction Project Boundary',\n",
            "       'HSOC Zones as of 2018-06-05', 'Invest In Neighborhoods (IIN) Areas',\n",
            "       'Current Supervisor Districts', 'Current Police Districts'],\n",
            "      dtype='object')\n"
          ]
        },
        {
          "data": {
            "text/html": [
              "\n",
              "  <div id=\"df-6e4b78c2-1872-48ff-a0fe-bcf6e9ce7594\">\n",
              "    <div class=\"colab-df-container\">\n",
              "      <div>\n",
              "<style scoped>\n",
              "    .dataframe tbody tr th:only-of-type {\n",
              "        vertical-align: middle;\n",
              "    }\n",
              "\n",
              "    .dataframe tbody tr th {\n",
              "        vertical-align: top;\n",
              "    }\n",
              "\n",
              "    .dataframe thead th {\n",
              "        text-align: right;\n",
              "    }\n",
              "</style>\n",
              "<table border=\"1\" class=\"dataframe\">\n",
              "  <thead>\n",
              "    <tr style=\"text-align: right;\">\n",
              "      <th></th>\n",
              "      <th>Incident Datetime</th>\n",
              "      <th>Incident Date</th>\n",
              "      <th>Incident Time</th>\n",
              "      <th>Incident Year</th>\n",
              "      <th>Incident Day of Week</th>\n",
              "      <th>Report Datetime</th>\n",
              "      <th>Row ID</th>\n",
              "      <th>Incident ID</th>\n",
              "      <th>Incident Number</th>\n",
              "      <th>CAD Number</th>\n",
              "      <th>Report Type Code</th>\n",
              "      <th>Report Type Description</th>\n",
              "      <th>Filed Online</th>\n",
              "      <th>Incident Code</th>\n",
              "      <th>Incident Category</th>\n",
              "      <th>Incident Subcategory</th>\n",
              "      <th>Incident Description</th>\n",
              "      <th>Resolution</th>\n",
              "      <th>Intersection</th>\n",
              "      <th>CNN</th>\n",
              "      <th>Police District</th>\n",
              "      <th>Analysis Neighborhood</th>\n",
              "      <th>Supervisor District</th>\n",
              "      <th>Latitude</th>\n",
              "      <th>Longitude</th>\n",
              "      <th>Point</th>\n",
              "      <th>Neighborhoods</th>\n",
              "      <th>ESNCAG - Boundary File</th>\n",
              "      <th>Central Market/Tenderloin Boundary Polygon - Updated</th>\n",
              "      <th>Civic Center Harm Reduction Project Boundary</th>\n",
              "      <th>HSOC Zones as of 2018-06-05</th>\n",
              "      <th>Invest In Neighborhoods (IIN) Areas</th>\n",
              "      <th>Current Supervisor Districts</th>\n",
              "      <th>Current Police Districts</th>\n",
              "    </tr>\n",
              "  </thead>\n",
              "  <tbody>\n",
              "    <tr>\n",
              "      <th>0</th>\n",
              "      <td>2021/07/25 12:00:00 AM</td>\n",
              "      <td>2021/07/25</td>\n",
              "      <td>00:00</td>\n",
              "      <td>2021</td>\n",
              "      <td>Sunday</td>\n",
              "      <td>2021/07/25 01:41:00 PM</td>\n",
              "      <td>105718906372</td>\n",
              "      <td>1057189</td>\n",
              "      <td>216105573</td>\n",
              "      <td>NaN</td>\n",
              "      <td>II</td>\n",
              "      <td>Coplogic Initial</td>\n",
              "      <td>True</td>\n",
              "      <td>6372</td>\n",
              "      <td>Larceny Theft</td>\n",
              "      <td>Larceny Theft - Other</td>\n",
              "      <td>Theft, Other Property, $50-$200</td>\n",
              "      <td>Open or Active</td>\n",
              "      <td>NaN</td>\n",
              "      <td>NaN</td>\n",
              "      <td>Southern</td>\n",
              "      <td>NaN</td>\n",
              "      <td>NaN</td>\n",
              "      <td>NaN</td>\n",
              "      <td>NaN</td>\n",
              "      <td>NaN</td>\n",
              "      <td>NaN</td>\n",
              "      <td>NaN</td>\n",
              "      <td>NaN</td>\n",
              "      <td>NaN</td>\n",
              "      <td>NaN</td>\n",
              "      <td>NaN</td>\n",
              "      <td>NaN</td>\n",
              "      <td>NaN</td>\n",
              "    </tr>\n",
              "    <tr>\n",
              "      <th>1</th>\n",
              "      <td>2022/06/28 11:58:00 PM</td>\n",
              "      <td>2022/06/28</td>\n",
              "      <td>23:58</td>\n",
              "      <td>2022</td>\n",
              "      <td>Tuesday</td>\n",
              "      <td>2022/06/28 11:58:00 PM</td>\n",
              "      <td>116554371012</td>\n",
              "      <td>1165543</td>\n",
              "      <td>220264913</td>\n",
              "      <td>NaN</td>\n",
              "      <td>VS</td>\n",
              "      <td>Vehicle Supplement</td>\n",
              "      <td>NaN</td>\n",
              "      <td>71012</td>\n",
              "      <td>Other Offenses</td>\n",
              "      <td>Other Offenses</td>\n",
              "      <td>License Plate, Recovered</td>\n",
              "      <td>Open or Active</td>\n",
              "      <td>NaN</td>\n",
              "      <td>NaN</td>\n",
              "      <td>Out of SF</td>\n",
              "      <td>NaN</td>\n",
              "      <td>NaN</td>\n",
              "      <td>NaN</td>\n",
              "      <td>NaN</td>\n",
              "      <td>NaN</td>\n",
              "      <td>NaN</td>\n",
              "      <td>NaN</td>\n",
              "      <td>NaN</td>\n",
              "      <td>NaN</td>\n",
              "      <td>NaN</td>\n",
              "      <td>NaN</td>\n",
              "      <td>NaN</td>\n",
              "      <td>NaN</td>\n",
              "    </tr>\n",
              "    <tr>\n",
              "      <th>2</th>\n",
              "      <td>2022/03/11 10:30:00 AM</td>\n",
              "      <td>2022/03/11</td>\n",
              "      <td>10:30</td>\n",
              "      <td>2022</td>\n",
              "      <td>Friday</td>\n",
              "      <td>2022/03/11 08:03:00 PM</td>\n",
              "      <td>113048071000</td>\n",
              "      <td>1130480</td>\n",
              "      <td>226040232</td>\n",
              "      <td>NaN</td>\n",
              "      <td>II</td>\n",
              "      <td>Coplogic Initial</td>\n",
              "      <td>True</td>\n",
              "      <td>71000</td>\n",
              "      <td>Lost Property</td>\n",
              "      <td>Lost Property</td>\n",
              "      <td>Lost Property</td>\n",
              "      <td>Open or Active</td>\n",
              "      <td>NaN</td>\n",
              "      <td>NaN</td>\n",
              "      <td>Central</td>\n",
              "      <td>NaN</td>\n",
              "      <td>NaN</td>\n",
              "      <td>NaN</td>\n",
              "      <td>NaN</td>\n",
              "      <td>NaN</td>\n",
              "      <td>NaN</td>\n",
              "      <td>NaN</td>\n",
              "      <td>NaN</td>\n",
              "      <td>NaN</td>\n",
              "      <td>NaN</td>\n",
              "      <td>NaN</td>\n",
              "      <td>NaN</td>\n",
              "      <td>NaN</td>\n",
              "    </tr>\n",
              "    <tr>\n",
              "      <th>3</th>\n",
              "      <td>2021/05/15 05:47:00 PM</td>\n",
              "      <td>2021/05/15</td>\n",
              "      <td>17:47</td>\n",
              "      <td>2021</td>\n",
              "      <td>Saturday</td>\n",
              "      <td>2021/05/15 05:47:00 PM</td>\n",
              "      <td>103051807043</td>\n",
              "      <td>1030518</td>\n",
              "      <td>210183345</td>\n",
              "      <td>NaN</td>\n",
              "      <td>VS</td>\n",
              "      <td>Vehicle Supplement</td>\n",
              "      <td>NaN</td>\n",
              "      <td>7043</td>\n",
              "      <td>Recovered Vehicle</td>\n",
              "      <td>Recovered Vehicle</td>\n",
              "      <td>Vehicle, Recovered, Motorcycle</td>\n",
              "      <td>Open or Active</td>\n",
              "      <td>NaN</td>\n",
              "      <td>NaN</td>\n",
              "      <td>Out of SF</td>\n",
              "      <td>NaN</td>\n",
              "      <td>NaN</td>\n",
              "      <td>NaN</td>\n",
              "      <td>NaN</td>\n",
              "      <td>NaN</td>\n",
              "      <td>NaN</td>\n",
              "      <td>NaN</td>\n",
              "      <td>NaN</td>\n",
              "      <td>NaN</td>\n",
              "      <td>NaN</td>\n",
              "      <td>NaN</td>\n",
              "      <td>NaN</td>\n",
              "      <td>NaN</td>\n",
              "    </tr>\n",
              "    <tr>\n",
              "      <th>4</th>\n",
              "      <td>2022/06/28 05:22:00 PM</td>\n",
              "      <td>2022/06/28</td>\n",
              "      <td>17:22</td>\n",
              "      <td>2022</td>\n",
              "      <td>Tuesday</td>\n",
              "      <td>2022/06/28 05:22:00 PM</td>\n",
              "      <td>116535107041</td>\n",
              "      <td>1165351</td>\n",
              "      <td>220361741</td>\n",
              "      <td>NaN</td>\n",
              "      <td>VS</td>\n",
              "      <td>Vehicle Supplement</td>\n",
              "      <td>NaN</td>\n",
              "      <td>7041</td>\n",
              "      <td>Recovered Vehicle</td>\n",
              "      <td>Recovered Vehicle</td>\n",
              "      <td>Vehicle, Recovered, Auto</td>\n",
              "      <td>Open or Active</td>\n",
              "      <td>NaN</td>\n",
              "      <td>NaN</td>\n",
              "      <td>Out of SF</td>\n",
              "      <td>NaN</td>\n",
              "      <td>NaN</td>\n",
              "      <td>NaN</td>\n",
              "      <td>NaN</td>\n",
              "      <td>NaN</td>\n",
              "      <td>NaN</td>\n",
              "      <td>NaN</td>\n",
              "      <td>NaN</td>\n",
              "      <td>NaN</td>\n",
              "      <td>NaN</td>\n",
              "      <td>NaN</td>\n",
              "      <td>NaN</td>\n",
              "      <td>NaN</td>\n",
              "    </tr>\n",
              "    <tr>\n",
              "      <th>...</th>\n",
              "      <td>...</td>\n",
              "      <td>...</td>\n",
              "      <td>...</td>\n",
              "      <td>...</td>\n",
              "      <td>...</td>\n",
              "      <td>...</td>\n",
              "      <td>...</td>\n",
              "      <td>...</td>\n",
              "      <td>...</td>\n",
              "      <td>...</td>\n",
              "      <td>...</td>\n",
              "      <td>...</td>\n",
              "      <td>...</td>\n",
              "      <td>...</td>\n",
              "      <td>...</td>\n",
              "      <td>...</td>\n",
              "      <td>...</td>\n",
              "      <td>...</td>\n",
              "      <td>...</td>\n",
              "      <td>...</td>\n",
              "      <td>...</td>\n",
              "      <td>...</td>\n",
              "      <td>...</td>\n",
              "      <td>...</td>\n",
              "      <td>...</td>\n",
              "      <td>...</td>\n",
              "      <td>...</td>\n",
              "      <td>...</td>\n",
              "      <td>...</td>\n",
              "      <td>...</td>\n",
              "      <td>...</td>\n",
              "      <td>...</td>\n",
              "      <td>...</td>\n",
              "      <td>...</td>\n",
              "    </tr>\n",
              "    <tr>\n",
              "      <th>693196</th>\n",
              "      <td>2023/02/09 04:48:00 PM</td>\n",
              "      <td>2023/02/09</td>\n",
              "      <td>16:48</td>\n",
              "      <td>2023</td>\n",
              "      <td>Thursday</td>\n",
              "      <td>2023/02/09 04:48:00 PM</td>\n",
              "      <td>124292363010</td>\n",
              "      <td>1242923</td>\n",
              "      <td>230097538</td>\n",
              "      <td>230402481.0</td>\n",
              "      <td>II</td>\n",
              "      <td>Initial</td>\n",
              "      <td>NaN</td>\n",
              "      <td>63010</td>\n",
              "      <td>Warrant</td>\n",
              "      <td>Other</td>\n",
              "      <td>Warrant Arrest, Local SF Warrant</td>\n",
              "      <td>Cite or Arrest Adult</td>\n",
              "      <td>22ND ST \\ CAPP ST</td>\n",
              "      <td>24082000.0</td>\n",
              "      <td>Mission</td>\n",
              "      <td>Mission</td>\n",
              "      <td>9.0</td>\n",
              "      <td>37.755502</td>\n",
              "      <td>-122.417659</td>\n",
              "      <td>POINT (-122.417658993747 37.75550249751555)</td>\n",
              "      <td>53.0</td>\n",
              "      <td>NaN</td>\n",
              "      <td>NaN</td>\n",
              "      <td>NaN</td>\n",
              "      <td>3.0</td>\n",
              "      <td>NaN</td>\n",
              "      <td>2.0</td>\n",
              "      <td>3.0</td>\n",
              "    </tr>\n",
              "    <tr>\n",
              "      <th>693197</th>\n",
              "      <td>2023/02/01 08:00:00 AM</td>\n",
              "      <td>2023/02/01</td>\n",
              "      <td>08:00</td>\n",
              "      <td>2023</td>\n",
              "      <td>Wednesday</td>\n",
              "      <td>2023/02/09 04:20:00 PM</td>\n",
              "      <td>124289815410</td>\n",
              "      <td>1242898</td>\n",
              "      <td>230097334</td>\n",
              "      <td>230402375.0</td>\n",
              "      <td>II</td>\n",
              "      <td>Initial</td>\n",
              "      <td>NaN</td>\n",
              "      <td>15410</td>\n",
              "      <td>NaN</td>\n",
              "      <td>NaN</td>\n",
              "      <td>Cryptocurrency Related Crime (secondary code o...</td>\n",
              "      <td>Open or Active</td>\n",
              "      <td>34TH AVE \\ ULLOA ST</td>\n",
              "      <td>23355000.0</td>\n",
              "      <td>Taraval</td>\n",
              "      <td>Sunset/Parkside</td>\n",
              "      <td>4.0</td>\n",
              "      <td>37.740475</td>\n",
              "      <td>-122.491635</td>\n",
              "      <td>POINT (-122.49163494114596 37.74047450560974)</td>\n",
              "      <td>40.0</td>\n",
              "      <td>NaN</td>\n",
              "      <td>NaN</td>\n",
              "      <td>NaN</td>\n",
              "      <td>NaN</td>\n",
              "      <td>NaN</td>\n",
              "      <td>7.0</td>\n",
              "      <td>10.0</td>\n",
              "    </tr>\n",
              "    <tr>\n",
              "      <th>693198</th>\n",
              "      <td>2023/02/09 08:00:00 AM</td>\n",
              "      <td>2023/02/09</td>\n",
              "      <td>08:00</td>\n",
              "      <td>2023</td>\n",
              "      <td>Thursday</td>\n",
              "      <td>2023/02/09 12:15:00 PM</td>\n",
              "      <td>124285615201</td>\n",
              "      <td>1242856</td>\n",
              "      <td>230096825</td>\n",
              "      <td>230401513.0</td>\n",
              "      <td>II</td>\n",
              "      <td>Initial</td>\n",
              "      <td>NaN</td>\n",
              "      <td>15201</td>\n",
              "      <td>Offences Against The Family And Children</td>\n",
              "      <td>Stalking</td>\n",
              "      <td>Stalking</td>\n",
              "      <td>Open or Active</td>\n",
              "      <td>LAGUNA ST \\ HAIGHT ST</td>\n",
              "      <td>25867000.0</td>\n",
              "      <td>Park</td>\n",
              "      <td>Hayes Valley</td>\n",
              "      <td>5.0</td>\n",
              "      <td>37.772734</td>\n",
              "      <td>-122.425512</td>\n",
              "      <td>POINT (-122.42551205721274 37.772734311063964)</td>\n",
              "      <td>27.0</td>\n",
              "      <td>NaN</td>\n",
              "      <td>NaN</td>\n",
              "      <td>NaN</td>\n",
              "      <td>NaN</td>\n",
              "      <td>NaN</td>\n",
              "      <td>11.0</td>\n",
              "      <td>4.0</td>\n",
              "    </tr>\n",
              "    <tr>\n",
              "      <th>693199</th>\n",
              "      <td>2023/02/07 11:24:00 PM</td>\n",
              "      <td>2023/02/07</td>\n",
              "      <td>23:24</td>\n",
              "      <td>2023</td>\n",
              "      <td>Tuesday</td>\n",
              "      <td>2023/02/07 11:24:00 PM</td>\n",
              "      <td>124244375025</td>\n",
              "      <td>1242443</td>\n",
              "      <td>230093332</td>\n",
              "      <td>230383543.0</td>\n",
              "      <td>II</td>\n",
              "      <td>Initial</td>\n",
              "      <td>NaN</td>\n",
              "      <td>75025</td>\n",
              "      <td>Non-Criminal</td>\n",
              "      <td>Non-Criminal</td>\n",
              "      <td>Search Warrant Service</td>\n",
              "      <td>Open or Active</td>\n",
              "      <td>03RD ST \\ LE CONTE AVE</td>\n",
              "      <td>20467000.0</td>\n",
              "      <td>Bayview</td>\n",
              "      <td>Bayview Hunters Point</td>\n",
              "      <td>10.0</td>\n",
              "      <td>37.718834</td>\n",
              "      <td>-122.397479</td>\n",
              "      <td>POINT (-122.39747873558031 37.718834357405456)</td>\n",
              "      <td>88.0</td>\n",
              "      <td>NaN</td>\n",
              "      <td>NaN</td>\n",
              "      <td>NaN</td>\n",
              "      <td>NaN</td>\n",
              "      <td>NaN</td>\n",
              "      <td>9.0</td>\n",
              "      <td>2.0</td>\n",
              "    </tr>\n",
              "    <tr>\n",
              "      <th>693200</th>\n",
              "      <td>2023/02/09 10:00:00 AM</td>\n",
              "      <td>2023/02/09</td>\n",
              "      <td>10:00</td>\n",
              "      <td>2023</td>\n",
              "      <td>Thursday</td>\n",
              "      <td>2023/02/09 04:43:00 PM</td>\n",
              "      <td>124293672000</td>\n",
              "      <td>1242936</td>\n",
              "      <td>230097447</td>\n",
              "      <td>230402466.0</td>\n",
              "      <td>II</td>\n",
              "      <td>Initial</td>\n",
              "      <td>NaN</td>\n",
              "      <td>72000</td>\n",
              "      <td>Non-Criminal</td>\n",
              "      <td>Non-Criminal</td>\n",
              "      <td>Found  Property</td>\n",
              "      <td>Cite or Arrest Adult</td>\n",
              "      <td>MARKET ST \\ POWELL ST</td>\n",
              "      <td>34016000.0</td>\n",
              "      <td>Central</td>\n",
              "      <td>Financial District/South Beach</td>\n",
              "      <td>3.0</td>\n",
              "      <td>37.784560</td>\n",
              "      <td>-122.407337</td>\n",
              "      <td>POINT (-122.40733704162238 37.784560141211806)</td>\n",
              "      <td>19.0</td>\n",
              "      <td>NaN</td>\n",
              "      <td>NaN</td>\n",
              "      <td>NaN</td>\n",
              "      <td>NaN</td>\n",
              "      <td>NaN</td>\n",
              "      <td>3.0</td>\n",
              "      <td>5.0</td>\n",
              "    </tr>\n",
              "  </tbody>\n",
              "</table>\n",
              "<p>693201 rows × 34 columns</p>\n",
              "</div>\n",
              "      <button class=\"colab-df-convert\" onclick=\"convertToInteractive('df-6e4b78c2-1872-48ff-a0fe-bcf6e9ce7594')\"\n",
              "              title=\"Convert this dataframe to an interactive table.\"\n",
              "              style=\"display:none;\">\n",
              "        \n",
              "  <svg xmlns=\"http://www.w3.org/2000/svg\" height=\"24px\"viewBox=\"0 0 24 24\"\n",
              "       width=\"24px\">\n",
              "    <path d=\"M0 0h24v24H0V0z\" fill=\"none\"/>\n",
              "    <path d=\"M18.56 5.44l.94 2.06.94-2.06 2.06-.94-2.06-.94-.94-2.06-.94 2.06-2.06.94zm-11 1L8.5 8.5l.94-2.06 2.06-.94-2.06-.94L8.5 2.5l-.94 2.06-2.06.94zm10 10l.94 2.06.94-2.06 2.06-.94-2.06-.94-.94-2.06-.94 2.06-2.06.94z\"/><path d=\"M17.41 7.96l-1.37-1.37c-.4-.4-.92-.59-1.43-.59-.52 0-1.04.2-1.43.59L10.3 9.45l-7.72 7.72c-.78.78-.78 2.05 0 2.83L4 21.41c.39.39.9.59 1.41.59.51 0 1.02-.2 1.41-.59l7.78-7.78 2.81-2.81c.8-.78.8-2.07 0-2.86zM5.41 20L4 18.59l7.72-7.72 1.47 1.35L5.41 20z\"/>\n",
              "  </svg>\n",
              "      </button>\n",
              "      \n",
              "  <style>\n",
              "    .colab-df-container {\n",
              "      display:flex;\n",
              "      flex-wrap:wrap;\n",
              "      gap: 12px;\n",
              "    }\n",
              "\n",
              "    .colab-df-convert {\n",
              "      background-color: #E8F0FE;\n",
              "      border: none;\n",
              "      border-radius: 50%;\n",
              "      cursor: pointer;\n",
              "      display: none;\n",
              "      fill: #1967D2;\n",
              "      height: 32px;\n",
              "      padding: 0 0 0 0;\n",
              "      width: 32px;\n",
              "    }\n",
              "\n",
              "    .colab-df-convert:hover {\n",
              "      background-color: #E2EBFA;\n",
              "      box-shadow: 0px 1px 2px rgba(60, 64, 67, 0.3), 0px 1px 3px 1px rgba(60, 64, 67, 0.15);\n",
              "      fill: #174EA6;\n",
              "    }\n",
              "\n",
              "    [theme=dark] .colab-df-convert {\n",
              "      background-color: #3B4455;\n",
              "      fill: #D2E3FC;\n",
              "    }\n",
              "\n",
              "    [theme=dark] .colab-df-convert:hover {\n",
              "      background-color: #434B5C;\n",
              "      box-shadow: 0px 1px 3px 1px rgba(0, 0, 0, 0.15);\n",
              "      filter: drop-shadow(0px 1px 2px rgba(0, 0, 0, 0.3));\n",
              "      fill: #FFFFFF;\n",
              "    }\n",
              "  </style>\n",
              "\n",
              "      <script>\n",
              "        const buttonEl =\n",
              "          document.querySelector('#df-6e4b78c2-1872-48ff-a0fe-bcf6e9ce7594 button.colab-df-convert');\n",
              "        buttonEl.style.display =\n",
              "          google.colab.kernel.accessAllowed ? 'block' : 'none';\n",
              "\n",
              "        async function convertToInteractive(key) {\n",
              "          const element = document.querySelector('#df-6e4b78c2-1872-48ff-a0fe-bcf6e9ce7594');\n",
              "          const dataTable =\n",
              "            await google.colab.kernel.invokeFunction('convertToInteractive',\n",
              "                                                     [key], {});\n",
              "          if (!dataTable) return;\n",
              "\n",
              "          const docLinkHtml = 'Like what you see? Visit the ' +\n",
              "            '<a target=\"_blank\" href=https://colab.research.google.com/notebooks/data_table.ipynb>data table notebook</a>'\n",
              "            + ' to learn more about interactive tables.';\n",
              "          element.innerHTML = '';\n",
              "          dataTable['output_type'] = 'display_data';\n",
              "          await google.colab.output.renderOutput(dataTable, element);\n",
              "          const docLink = document.createElement('div');\n",
              "          docLink.innerHTML = docLinkHtml;\n",
              "          element.appendChild(docLink);\n",
              "        }\n",
              "      </script>\n",
              "    </div>\n",
              "  </div>\n",
              "  "
            ],
            "text/plain": [
              "             Incident Datetime Incident Date Incident Time  Incident Year  \\\n",
              "0       2021/07/25 12:00:00 AM    2021/07/25         00:00           2021   \n",
              "1       2022/06/28 11:58:00 PM    2022/06/28         23:58           2022   \n",
              "2       2022/03/11 10:30:00 AM    2022/03/11         10:30           2022   \n",
              "3       2021/05/15 05:47:00 PM    2021/05/15         17:47           2021   \n",
              "4       2022/06/28 05:22:00 PM    2022/06/28         17:22           2022   \n",
              "...                        ...           ...           ...            ...   \n",
              "693196  2023/02/09 04:48:00 PM    2023/02/09         16:48           2023   \n",
              "693197  2023/02/01 08:00:00 AM    2023/02/01         08:00           2023   \n",
              "693198  2023/02/09 08:00:00 AM    2023/02/09         08:00           2023   \n",
              "693199  2023/02/07 11:24:00 PM    2023/02/07         23:24           2023   \n",
              "693200  2023/02/09 10:00:00 AM    2023/02/09         10:00           2023   \n",
              "\n",
              "       Incident Day of Week         Report Datetime        Row ID  \\\n",
              "0                    Sunday  2021/07/25 01:41:00 PM  105718906372   \n",
              "1                   Tuesday  2022/06/28 11:58:00 PM  116554371012   \n",
              "2                    Friday  2022/03/11 08:03:00 PM  113048071000   \n",
              "3                  Saturday  2021/05/15 05:47:00 PM  103051807043   \n",
              "4                   Tuesday  2022/06/28 05:22:00 PM  116535107041   \n",
              "...                     ...                     ...           ...   \n",
              "693196             Thursday  2023/02/09 04:48:00 PM  124292363010   \n",
              "693197            Wednesday  2023/02/09 04:20:00 PM  124289815410   \n",
              "693198             Thursday  2023/02/09 12:15:00 PM  124285615201   \n",
              "693199              Tuesday  2023/02/07 11:24:00 PM  124244375025   \n",
              "693200             Thursday  2023/02/09 04:43:00 PM  124293672000   \n",
              "\n",
              "        Incident ID  Incident Number   CAD Number Report Type Code  \\\n",
              "0           1057189        216105573          NaN               II   \n",
              "1           1165543        220264913          NaN               VS   \n",
              "2           1130480        226040232          NaN               II   \n",
              "3           1030518        210183345          NaN               VS   \n",
              "4           1165351        220361741          NaN               VS   \n",
              "...             ...              ...          ...              ...   \n",
              "693196      1242923        230097538  230402481.0               II   \n",
              "693197      1242898        230097334  230402375.0               II   \n",
              "693198      1242856        230096825  230401513.0               II   \n",
              "693199      1242443        230093332  230383543.0               II   \n",
              "693200      1242936        230097447  230402466.0               II   \n",
              "\n",
              "       Report Type Description Filed Online  Incident Code  \\\n",
              "0             Coplogic Initial         True           6372   \n",
              "1           Vehicle Supplement          NaN          71012   \n",
              "2             Coplogic Initial         True          71000   \n",
              "3           Vehicle Supplement          NaN           7043   \n",
              "4           Vehicle Supplement          NaN           7041   \n",
              "...                        ...          ...            ...   \n",
              "693196                 Initial          NaN          63010   \n",
              "693197                 Initial          NaN          15410   \n",
              "693198                 Initial          NaN          15201   \n",
              "693199                 Initial          NaN          75025   \n",
              "693200                 Initial          NaN          72000   \n",
              "\n",
              "                               Incident Category   Incident Subcategory  \\\n",
              "0                                  Larceny Theft  Larceny Theft - Other   \n",
              "1                                 Other Offenses         Other Offenses   \n",
              "2                                  Lost Property          Lost Property   \n",
              "3                              Recovered Vehicle      Recovered Vehicle   \n",
              "4                              Recovered Vehicle      Recovered Vehicle   \n",
              "...                                          ...                    ...   \n",
              "693196                                   Warrant                  Other   \n",
              "693197                                       NaN                    NaN   \n",
              "693198  Offences Against The Family And Children               Stalking   \n",
              "693199                              Non-Criminal           Non-Criminal   \n",
              "693200                              Non-Criminal           Non-Criminal   \n",
              "\n",
              "                                     Incident Description  \\\n",
              "0                         Theft, Other Property, $50-$200   \n",
              "1                                License Plate, Recovered   \n",
              "2                                           Lost Property   \n",
              "3                          Vehicle, Recovered, Motorcycle   \n",
              "4                                Vehicle, Recovered, Auto   \n",
              "...                                                   ...   \n",
              "693196                   Warrant Arrest, Local SF Warrant   \n",
              "693197  Cryptocurrency Related Crime (secondary code o...   \n",
              "693198                                           Stalking   \n",
              "693199                             Search Warrant Service   \n",
              "693200                                    Found  Property   \n",
              "\n",
              "                  Resolution            Intersection         CNN  \\\n",
              "0             Open or Active                     NaN         NaN   \n",
              "1             Open or Active                     NaN         NaN   \n",
              "2             Open or Active                     NaN         NaN   \n",
              "3             Open or Active                     NaN         NaN   \n",
              "4             Open or Active                     NaN         NaN   \n",
              "...                      ...                     ...         ...   \n",
              "693196  Cite or Arrest Adult       22ND ST \\ CAPP ST  24082000.0   \n",
              "693197        Open or Active     34TH AVE \\ ULLOA ST  23355000.0   \n",
              "693198        Open or Active   LAGUNA ST \\ HAIGHT ST  25867000.0   \n",
              "693199        Open or Active  03RD ST \\ LE CONTE AVE  20467000.0   \n",
              "693200  Cite or Arrest Adult   MARKET ST \\ POWELL ST  34016000.0   \n",
              "\n",
              "       Police District           Analysis Neighborhood  Supervisor District  \\\n",
              "0             Southern                             NaN                  NaN   \n",
              "1            Out of SF                             NaN                  NaN   \n",
              "2              Central                             NaN                  NaN   \n",
              "3            Out of SF                             NaN                  NaN   \n",
              "4            Out of SF                             NaN                  NaN   \n",
              "...                ...                             ...                  ...   \n",
              "693196         Mission                         Mission                  9.0   \n",
              "693197         Taraval                 Sunset/Parkside                  4.0   \n",
              "693198            Park                    Hayes Valley                  5.0   \n",
              "693199         Bayview           Bayview Hunters Point                 10.0   \n",
              "693200         Central  Financial District/South Beach                  3.0   \n",
              "\n",
              "         Latitude   Longitude                                           Point  \\\n",
              "0             NaN         NaN                                             NaN   \n",
              "1             NaN         NaN                                             NaN   \n",
              "2             NaN         NaN                                             NaN   \n",
              "3             NaN         NaN                                             NaN   \n",
              "4             NaN         NaN                                             NaN   \n",
              "...           ...         ...                                             ...   \n",
              "693196  37.755502 -122.417659     POINT (-122.417658993747 37.75550249751555)   \n",
              "693197  37.740475 -122.491635   POINT (-122.49163494114596 37.74047450560974)   \n",
              "693198  37.772734 -122.425512  POINT (-122.42551205721274 37.772734311063964)   \n",
              "693199  37.718834 -122.397479  POINT (-122.39747873558031 37.718834357405456)   \n",
              "693200  37.784560 -122.407337  POINT (-122.40733704162238 37.784560141211806)   \n",
              "\n",
              "        Neighborhoods  ESNCAG - Boundary File  \\\n",
              "0                 NaN                     NaN   \n",
              "1                 NaN                     NaN   \n",
              "2                 NaN                     NaN   \n",
              "3                 NaN                     NaN   \n",
              "4                 NaN                     NaN   \n",
              "...               ...                     ...   \n",
              "693196           53.0                     NaN   \n",
              "693197           40.0                     NaN   \n",
              "693198           27.0                     NaN   \n",
              "693199           88.0                     NaN   \n",
              "693200           19.0                     NaN   \n",
              "\n",
              "        Central Market/Tenderloin Boundary Polygon - Updated  \\\n",
              "0                                                     NaN      \n",
              "1                                                     NaN      \n",
              "2                                                     NaN      \n",
              "3                                                     NaN      \n",
              "4                                                     NaN      \n",
              "...                                                   ...      \n",
              "693196                                                NaN      \n",
              "693197                                                NaN      \n",
              "693198                                                NaN      \n",
              "693199                                                NaN      \n",
              "693200                                                NaN      \n",
              "\n",
              "        Civic Center Harm Reduction Project Boundary  \\\n",
              "0                                                NaN   \n",
              "1                                                NaN   \n",
              "2                                                NaN   \n",
              "3                                                NaN   \n",
              "4                                                NaN   \n",
              "...                                              ...   \n",
              "693196                                           NaN   \n",
              "693197                                           NaN   \n",
              "693198                                           NaN   \n",
              "693199                                           NaN   \n",
              "693200                                           NaN   \n",
              "\n",
              "        HSOC Zones as of 2018-06-05  Invest In Neighborhoods (IIN) Areas  \\\n",
              "0                               NaN                                  NaN   \n",
              "1                               NaN                                  NaN   \n",
              "2                               NaN                                  NaN   \n",
              "3                               NaN                                  NaN   \n",
              "4                               NaN                                  NaN   \n",
              "...                             ...                                  ...   \n",
              "693196                          3.0                                  NaN   \n",
              "693197                          NaN                                  NaN   \n",
              "693198                          NaN                                  NaN   \n",
              "693199                          NaN                                  NaN   \n",
              "693200                          NaN                                  NaN   \n",
              "\n",
              "        Current Supervisor Districts  Current Police Districts  \n",
              "0                                NaN                       NaN  \n",
              "1                                NaN                       NaN  \n",
              "2                                NaN                       NaN  \n",
              "3                                NaN                       NaN  \n",
              "4                                NaN                       NaN  \n",
              "...                              ...                       ...  \n",
              "693196                           2.0                       3.0  \n",
              "693197                           7.0                      10.0  \n",
              "693198                          11.0                       4.0  \n",
              "693199                           9.0                       2.0  \n",
              "693200                           3.0                       5.0  \n",
              "\n",
              "[693201 rows x 34 columns]"
            ]
          },
          "metadata": {},
          "output_type": "display_data"
        }
      ],
      "source": [
        "# Read the .csv file\n",
        "police = pd.read_csv('Police_Department_Incident_Reports__2018_to_Present.csv')\n",
        "print(police.columns)\n",
        "pd.set_option('display.max_columns', None)\n",
        "display(police)"
      ]
    },
    {
      "cell_type": "code",
      "execution_count": null,
      "metadata": {
        "colab": {
          "base_uri": "https://localhost:8080/"
        },
        "id": "n01hWAW0gCEL",
        "outputId": "295e62c4-2fb1-40b5-f64d-13d419d30181"
      },
      "outputs": [
        {
          "name": "stdout",
          "output_type": "stream",
          "text": [
            "The number of records in the dataset: 693201\n"
          ]
        }
      ],
      "source": [
        "size = len(police)\n",
        "print(\"The number of records in the dataset:\",size)"
      ]
    },
    {
      "cell_type": "markdown",
      "metadata": {
        "id": "RKfl8VHQbbSR"
      },
      "source": [
        "In order to decide what data we could investigate with SVI, we have to see what types of records there are, how many types, how frequent the types are, how frequently do the records miss latitude and longitude coordinates. Of the records that have sufficient frequency, that don't miss too many lat-lon coordinates and of which the records with missing coordinates are not specific in any obvious way we pick the type of crime that might most likely be related to the street environment."
      ]
    },
    {
      "cell_type": "code",
      "execution_count": null,
      "metadata": {
        "colab": {
          "base_uri": "https://localhost:8080/"
        },
        "id": "qzOXrd8MgCEM",
        "outputId": "4a31aff1-65a5-4b88-eec2-041c4207d0de"
      },
      "outputs": [
        {
          "name": "stdout",
          "output_type": "stream",
          "text": [
            "How many unique incident descriptions:\n"
          ]
        },
        {
          "data": {
            "text/plain": [
              "838"
            ]
          },
          "execution_count": 13,
          "metadata": {},
          "output_type": "execute_result"
        }
      ],
      "source": [
        "print(\"How many unique incident descriptions:\")\n",
        "pd.unique(police['Incident Description']).size"
      ]
    },
    {
      "cell_type": "code",
      "execution_count": null,
      "metadata": {
        "colab": {
          "base_uri": "https://localhost:8080/"
        },
        "id": "38ixQmBGgCEM",
        "outputId": "4c1a5e22-2334-4d9a-d715-0610e1637dfe",
        "scrolled": true
      },
      "outputs": [
        {
          "name": "stdout",
          "output_type": "stream",
          "text": [
            "What are the incident subcategories:\n"
          ]
        },
        {
          "data": {
            "text/plain": [
              "array(['Larceny Theft - Other', 'Other Offenses', 'Lost Property',\n",
              "       'Recovered Vehicle', 'Vandalism', 'Larceny - From Vehicle',\n",
              "       'Burglary - Hot Prowl', 'Missing Person', 'Fraud',\n",
              "       'Traffic Violation Arrest', 'Trespass', 'Drug Violation',\n",
              "       'Motor Vehicle Theft', 'Missing Adult', 'Burglary - Residential',\n",
              "       'Other', 'Robbery - Commercial', 'Warrant', 'Theft From Vehicle',\n",
              "       'Arson', 'Stolen Property', 'Aggravated Assault',\n",
              "       'Weapons Offense', 'Drunkenness', 'Suspicious Occ', 'Non-Criminal',\n",
              "       'Larceny Theft - Shoplifting', 'Courtesy Report', 'Case Closure',\n",
              "       'Burglary - Commercial', 'Simple Assault',\n",
              "       'Larceny Theft - From Building', 'Fire Report',\n",
              "       'Miscellaneous Investigation', nan, 'Burglary - Other',\n",
              "       'Disorderly Conduct', 'Larceny Theft - Bicycle',\n",
              "       'Forgery And Counterfeiting', 'Intimidation', 'Robbery - Other',\n",
              "       'Sex Offense', 'Motor Vehicle Theft (Attempted)',\n",
              "       'Robbery - Street', 'Extortion-Blackmail', 'Larceny - Auto Parts',\n",
              "       'Traffic Collision', 'Loitering', 'Vehicle Impounded',\n",
              "       'Kidnapping', 'Arrest', 'Liquor Law Violation',\n",
              "       'Larceny Theft - Pickpocket', 'Traffic Collision - Hit & Run',\n",
              "       'Vehicle Misplaced', 'Embezzlement', 'Robbery - Carjacking',\n",
              "       'Human Trafficking, Commercial Sex Acts', 'Stalking',\n",
              "       'Manslaughter', 'Larceny Theft - Purse Snatch', 'Prostitution',\n",
              "       'Bad Checks', 'Suicide', 'Rape', 'Rape - Attempted',\n",
              "       'Suspicious Package', 'Gambling', 'Robbery - Residential',\n",
              "       'Homicide', 'Bribery', 'Human Trafficking, Involuntary Servitude',\n",
              "       'Homicide - Excusable'], dtype=object)"
            ]
          },
          "execution_count": 14,
          "metadata": {},
          "output_type": "execute_result"
        }
      ],
      "source": [
        "print(\"What are the incident subcategories:\")\n",
        "pd.unique(police['Incident Subcategory'])"
      ]
    },
    {
      "cell_type": "code",
      "execution_count": null,
      "metadata": {
        "colab": {
          "base_uri": "https://localhost:8080/",
          "height": 452
        },
        "id": "yuW104S6gCEN",
        "outputId": "f4b53de0-35c4-4bbd-cfb6-a22587211ceb",
        "scrolled": true
      },
      "outputs": [
        {
          "data": {
            "image/png": "[encoded data removed]",
            "text/plain": [
              "<Figure size 640x480 with 1 Axes>"
            ]
          },
          "metadata": {},
          "output_type": "display_data"
        }
      ],
      "source": [
        "plt.hist(police['Incident Day of Week'],bins=7)\n",
        "plt.title(\"Incident dynamics over the days of the week\")\n",
        "plt.show()"
      ]
    },
    {
      "cell_type": "markdown",
      "metadata": {
        "id": "kPINZvhjcw24"
      },
      "source": [
        "Let's display the top incident descriptions with their counts and frequencies."
      ]
    },
    {
      "cell_type": "code",
      "execution_count": null,
      "metadata": {
        "colab": {
          "base_uri": "https://localhost:8080/",
          "height": 380
        },
        "id": "NpIMCoVGgCEN",
        "outputId": "125ed9e5-1ba2-4659-b867-9252cbc89546"
      },
      "outputs": [
        {
          "name": "stdout",
          "output_type": "stream",
          "text": [
            "The most oftenly occurring incident descriptions:\n"
          ]
        },
        {
          "data": {
            "text/html": [
              "\n",
              "  <div id=\"df-5290ef75-df7f-494d-be18-29f6db8d7c05\">\n",
              "    <div class=\"colab-df-container\">\n",
              "      <div>\n",
              "<style scoped>\n",
              "    .dataframe tbody tr th:only-of-type {\n",
              "        vertical-align: middle;\n",
              "    }\n",
              "\n",
              "    .dataframe tbody tr th {\n",
              "        vertical-align: top;\n",
              "    }\n",
              "\n",
              "    .dataframe thead th {\n",
              "        text-align: right;\n",
              "    }\n",
              "</style>\n",
              "<table border=\"1\" class=\"dataframe\">\n",
              "  <thead>\n",
              "    <tr style=\"text-align: right;\">\n",
              "      <th></th>\n",
              "      <th>Incident Description</th>\n",
              "      <th>count</th>\n",
              "      <th>freq, %</th>\n",
              "    </tr>\n",
              "  </thead>\n",
              "  <tbody>\n",
              "    <tr>\n",
              "      <th>706</th>\n",
              "      <td>Theft, From Locked Vehicle, &gt;$950</td>\n",
              "      <td>87810</td>\n",
              "      <td>12.67</td>\n",
              "    </tr>\n",
              "    <tr>\n",
              "      <th>417</th>\n",
              "      <td>Malicious Mischief, Vandalism to Property</td>\n",
              "      <td>23070</td>\n",
              "      <td>3.33</td>\n",
              "    </tr>\n",
              "    <tr>\n",
              "      <th>84</th>\n",
              "      <td>Battery</td>\n",
              "      <td>20409</td>\n",
              "      <td>2.94</td>\n",
              "    </tr>\n",
              "    <tr>\n",
              "      <th>402</th>\n",
              "      <td>Lost Property</td>\n",
              "      <td>20240</td>\n",
              "      <td>2.92</td>\n",
              "    </tr>\n",
              "    <tr>\n",
              "      <th>727</th>\n",
              "      <td>Theft, Other Property, $50-$200</td>\n",
              "      <td>19515</td>\n",
              "      <td>2.82</td>\n",
              "    </tr>\n",
              "    <tr>\n",
              "      <th>791</th>\n",
              "      <td>Vehicle, Recovered, Auto</td>\n",
              "      <td>19506</td>\n",
              "      <td>2.81</td>\n",
              "    </tr>\n",
              "    <tr>\n",
              "      <th>802</th>\n",
              "      <td>Vehicle, Stolen, Auto</td>\n",
              "      <td>18873</td>\n",
              "      <td>2.72</td>\n",
              "    </tr>\n",
              "    <tr>\n",
              "      <th>729</th>\n",
              "      <td>Theft, Other Property, &gt;$950</td>\n",
              "      <td>16478</td>\n",
              "      <td>2.38</td>\n",
              "    </tr>\n",
              "    <tr>\n",
              "      <th>429</th>\n",
              "      <td>Mental Health Detention</td>\n",
              "      <td>15374</td>\n",
              "      <td>2.22</td>\n",
              "    </tr>\n",
              "    <tr>\n",
              "      <th>716</th>\n",
              "      <td>Theft, From Unlocked Vehicle, &gt;$950</td>\n",
              "      <td>13068</td>\n",
              "      <td>1.89</td>\n",
              "    </tr>\n",
              "  </tbody>\n",
              "</table>\n",
              "</div>\n",
              "      <button class=\"colab-df-convert\" onclick=\"convertToInteractive('df-5290ef75-df7f-494d-be18-29f6db8d7c05')\"\n",
              "              title=\"Convert this dataframe to an interactive table.\"\n",
              "              style=\"display:none;\">\n",
              "        \n",
              "  <svg xmlns=\"http://www.w3.org/2000/svg\" height=\"24px\"viewBox=\"0 0 24 24\"\n",
              "       width=\"24px\">\n",
              "    <path d=\"M0 0h24v24H0V0z\" fill=\"none\"/>\n",
              "    <path d=\"M18.56 5.44l.94 2.06.94-2.06 2.06-.94-2.06-.94-.94-2.06-.94 2.06-2.06.94zm-11 1L8.5 8.5l.94-2.06 2.06-.94-2.06-.94L8.5 2.5l-.94 2.06-2.06.94zm10 10l.94 2.06.94-2.06 2.06-.94-2.06-.94-.94-2.06-.94 2.06-2.06.94z\"/><path d=\"M17.41 7.96l-1.37-1.37c-.4-.4-.92-.59-1.43-.59-.52 0-1.04.2-1.43.59L10.3 9.45l-7.72 7.72c-.78.78-.78 2.05 0 2.83L4 21.41c.39.39.9.59 1.41.59.51 0 1.02-.2 1.41-.59l7.78-7.78 2.81-2.81c.8-.78.8-2.07 0-2.86zM5.41 20L4 18.59l7.72-7.72 1.47 1.35L5.41 20z\"/>\n",
              "  </svg>\n",
              "      </button>\n",
              "      \n",
              "  <style>\n",
              "    .colab-df-container {\n",
              "      display:flex;\n",
              "      flex-wrap:wrap;\n",
              "      gap: 12px;\n",
              "    }\n",
              "\n",
              "    .colab-df-convert {\n",
              "      background-color: #E8F0FE;\n",
              "      border: none;\n",
              "      border-radius: 50%;\n",
              "      cursor: pointer;\n",
              "      display: none;\n",
              "      fill: #1967D2;\n",
              "      height: 32px;\n",
              "      padding: 0 0 0 0;\n",
              "      width: 32px;\n",
              "    }\n",
              "\n",
              "    .colab-df-convert:hover {\n",
              "      background-color: #E2EBFA;\n",
              "      box-shadow: 0px 1px 2px rgba(60, 64, 67, 0.3), 0px 1px 3px 1px rgba(60, 64, 67, 0.15);\n",
              "      fill: #174EA6;\n",
              "    }\n",
              "\n",
              "    [theme=dark] .colab-df-convert {\n",
              "      background-color: #3B4455;\n",
              "      fill: #D2E3FC;\n",
              "    }\n",
              "\n",
              "    [theme=dark] .colab-df-convert:hover {\n",
              "      background-color: #434B5C;\n",
              "      box-shadow: 0px 1px 3px 1px rgba(0, 0, 0, 0.15);\n",
              "      filter: drop-shadow(0px 1px 2px rgba(0, 0, 0, 0.3));\n",
              "      fill: #FFFFFF;\n",
              "    }\n",
              "  </style>\n",
              "\n",
              "      <script>\n",
              "        const buttonEl =\n",
              "          document.querySelector('#df-5290ef75-df7f-494d-be18-29f6db8d7c05 button.colab-df-convert');\n",
              "        buttonEl.style.display =\n",
              "          google.colab.kernel.accessAllowed ? 'block' : 'none';\n",
              "\n",
              "        async function convertToInteractive(key) {\n",
              "          const element = document.querySelector('#df-5290ef75-df7f-494d-be18-29f6db8d7c05');\n",
              "          const dataTable =\n",
              "            await google.colab.kernel.invokeFunction('convertToInteractive',\n",
              "                                                     [key], {});\n",
              "          if (!dataTable) return;\n",
              "\n",
              "          const docLinkHtml = 'Like what you see? Visit the ' +\n",
              "            '<a target=\"_blank\" href=https://colab.research.google.com/notebooks/data_table.ipynb>data table notebook</a>'\n",
              "            + ' to learn more about interactive tables.';\n",
              "          element.innerHTML = '';\n",
              "          dataTable['output_type'] = 'display_data';\n",
              "          await google.colab.output.renderOutput(dataTable, element);\n",
              "          const docLink = document.createElement('div');\n",
              "          docLink.innerHTML = docLinkHtml;\n",
              "          element.appendChild(docLink);\n",
              "        }\n",
              "      </script>\n",
              "    </div>\n",
              "  </div>\n",
              "  "
            ],
            "text/plain": [
              "                          Incident Description  count  freq, %\n",
              "706          Theft, From Locked Vehicle, >$950  87810    12.67\n",
              "417  Malicious Mischief, Vandalism to Property  23070     3.33\n",
              "84                                     Battery  20409     2.94\n",
              "402                              Lost Property  20240     2.92\n",
              "727            Theft, Other Property, $50-$200  19515     2.82\n",
              "791                   Vehicle, Recovered, Auto  19506     2.81\n",
              "802                      Vehicle, Stolen, Auto  18873     2.72\n",
              "729               Theft, Other Property, >$950  16478     2.38\n",
              "429                    Mental Health Detention  15374     2.22\n",
              "716        Theft, From Unlocked Vehicle, >$950  13068     1.89"
            ]
          },
          "execution_count": 20,
          "metadata": {},
          "output_type": "execute_result"
        }
      ],
      "source": [
        "print(\"The most oftenly occurring incident descriptions:\")\n",
        "descr = police.groupby(['Incident Description'])['Incident Description'].count().reset_index(name='count').sort_values(['count'],ascending=False)\n",
        "descr['freq, %'] = round(descr['count']*100/size,2)\n",
        "descr.head(10)"
      ]
    },
    {
      "cell_type": "markdown",
      "metadata": {
        "id": "Q6WW6XRJdEgJ"
      },
      "source": [
        "Well, descriptions don't seem to be a good categorisation. What's \"Battery\" as a description of an incident, for example? Let's look at the higher granularity of descriptions - the categories of the incidents."
      ]
    },
    {
      "cell_type": "code",
      "execution_count": null,
      "metadata": {
        "colab": {
          "base_uri": "https://localhost:8080/",
          "height": 380
        },
        "id": "L4ML5unEgCEN",
        "outputId": "2e694ccb-252d-4711-8eba-8677ace9708a"
      },
      "outputs": [
        {
          "name": "stdout",
          "output_type": "stream",
          "text": [
            "The most frequent incidents:\n"
          ]
        },
        {
          "data": {
            "text/html": [
              "\n",
              "  <div id=\"df-137867fc-5a2d-4934-8717-b5096cb6cf0d\">\n",
              "    <div class=\"colab-df-container\">\n",
              "      <div>\n",
              "<style scoped>\n",
              "    .dataframe tbody tr th:only-of-type {\n",
              "        vertical-align: middle;\n",
              "    }\n",
              "\n",
              "    .dataframe tbody tr th {\n",
              "        vertical-align: top;\n",
              "    }\n",
              "\n",
              "    .dataframe thead th {\n",
              "        text-align: right;\n",
              "    }\n",
              "</style>\n",
              "<table border=\"1\" class=\"dataframe\">\n",
              "  <thead>\n",
              "    <tr style=\"text-align: right;\">\n",
              "      <th></th>\n",
              "      <th>Incident Category</th>\n",
              "      <th>count</th>\n",
              "      <th>freq, %</th>\n",
              "    </tr>\n",
              "  </thead>\n",
              "  <tbody>\n",
              "    <tr>\n",
              "      <th>18</th>\n",
              "      <td>Larceny Theft</td>\n",
              "      <td>211377</td>\n",
              "      <td>30.49</td>\n",
              "    </tr>\n",
              "    <tr>\n",
              "      <th>29</th>\n",
              "      <td>Other Miscellaneous</td>\n",
              "      <td>48443</td>\n",
              "      <td>6.99</td>\n",
              "    </tr>\n",
              "    <tr>\n",
              "      <th>21</th>\n",
              "      <td>Malicious Mischief</td>\n",
              "      <td>46937</td>\n",
              "      <td>6.77</td>\n",
              "    </tr>\n",
              "    <tr>\n",
              "      <th>1</th>\n",
              "      <td>Assault</td>\n",
              "      <td>42139</td>\n",
              "      <td>6.08</td>\n",
              "    </tr>\n",
              "    <tr>\n",
              "      <th>26</th>\n",
              "      <td>Non-Criminal</td>\n",
              "      <td>41405</td>\n",
              "      <td>5.97</td>\n",
              "    </tr>\n",
              "    <tr>\n",
              "      <th>2</th>\n",
              "      <td>Burglary</td>\n",
              "      <td>39063</td>\n",
              "      <td>5.64</td>\n",
              "    </tr>\n",
              "    <tr>\n",
              "      <th>24</th>\n",
              "      <td>Motor Vehicle Theft</td>\n",
              "      <td>35240</td>\n",
              "      <td>5.08</td>\n",
              "    </tr>\n",
              "    <tr>\n",
              "      <th>33</th>\n",
              "      <td>Recovered Vehicle</td>\n",
              "      <td>26870</td>\n",
              "      <td>3.88</td>\n",
              "    </tr>\n",
              "    <tr>\n",
              "      <th>12</th>\n",
              "      <td>Fraud</td>\n",
              "      <td>21929</td>\n",
              "      <td>3.16</td>\n",
              "    </tr>\n",
              "    <tr>\n",
              "      <th>20</th>\n",
              "      <td>Lost Property</td>\n",
              "      <td>20240</td>\n",
              "      <td>2.92</td>\n",
              "    </tr>\n",
              "  </tbody>\n",
              "</table>\n",
              "</div>\n",
              "      <button class=\"colab-df-convert\" onclick=\"convertToInteractive('df-137867fc-5a2d-4934-8717-b5096cb6cf0d')\"\n",
              "              title=\"Convert this dataframe to an interactive table.\"\n",
              "              style=\"display:none;\">\n",
              "        \n",
              "  <svg xmlns=\"http://www.w3.org/2000/svg\" height=\"24px\"viewBox=\"0 0 24 24\"\n",
              "       width=\"24px\">\n",
              "    <path d=\"M0 0h24v24H0V0z\" fill=\"none\"/>\n",
              "    <path d=\"M18.56 5.44l.94 2.06.94-2.06 2.06-.94-2.06-.94-.94-2.06-.94 2.06-2.06.94zm-11 1L8.5 8.5l.94-2.06 2.06-.94-2.06-.94L8.5 2.5l-.94 2.06-2.06.94zm10 10l.94 2.06.94-2.06 2.06-.94-2.06-.94-.94-2.06-.94 2.06-2.06.94z\"/><path d=\"M17.41 7.96l-1.37-1.37c-.4-.4-.92-.59-1.43-.59-.52 0-1.04.2-1.43.59L10.3 9.45l-7.72 7.72c-.78.78-.78 2.05 0 2.83L4 21.41c.39.39.9.59 1.41.59.51 0 1.02-.2 1.41-.59l7.78-7.78 2.81-2.81c.8-.78.8-2.07 0-2.86zM5.41 20L4 18.59l7.72-7.72 1.47 1.35L5.41 20z\"/>\n",
              "  </svg>\n",
              "      </button>\n",
              "      \n",
              "  <style>\n",
              "    .colab-df-container {\n",
              "      display:flex;\n",
              "      flex-wrap:wrap;\n",
              "      gap: 12px;\n",
              "    }\n",
              "\n",
              "    .colab-df-convert {\n",
              "      background-color: #E8F0FE;\n",
              "      border: none;\n",
              "      border-radius: 50%;\n",
              "      cursor: pointer;\n",
              "      display: none;\n",
              "      fill: #1967D2;\n",
              "      height: 32px;\n",
              "      padding: 0 0 0 0;\n",
              "      width: 32px;\n",
              "    }\n",
              "\n",
              "    .colab-df-convert:hover {\n",
              "      background-color: #E2EBFA;\n",
              "      box-shadow: 0px 1px 2px rgba(60, 64, 67, 0.3), 0px 1px 3px 1px rgba(60, 64, 67, 0.15);\n",
              "      fill: #174EA6;\n",
              "    }\n",
              "\n",
              "    [theme=dark] .colab-df-convert {\n",
              "      background-color: #3B4455;\n",
              "      fill: #D2E3FC;\n",
              "    }\n",
              "\n",
              "    [theme=dark] .colab-df-convert:hover {\n",
              "      background-color: #434B5C;\n",
              "      box-shadow: 0px 1px 3px 1px rgba(0, 0, 0, 0.15);\n",
              "      filter: drop-shadow(0px 1px 2px rgba(0, 0, 0, 0.3));\n",
              "      fill: #FFFFFF;\n",
              "    }\n",
              "  </style>\n",
              "\n",
              "      <script>\n",
              "        const buttonEl =\n",
              "          document.querySelector('#df-137867fc-5a2d-4934-8717-b5096cb6cf0d button.colab-df-convert');\n",
              "        buttonEl.style.display =\n",
              "          google.colab.kernel.accessAllowed ? 'block' : 'none';\n",
              "\n",
              "        async function convertToInteractive(key) {\n",
              "          const element = document.querySelector('#df-137867fc-5a2d-4934-8717-b5096cb6cf0d');\n",
              "          const dataTable =\n",
              "            await google.colab.kernel.invokeFunction('convertToInteractive',\n",
              "                                                     [key], {});\n",
              "          if (!dataTable) return;\n",
              "\n",
              "          const docLinkHtml = 'Like what you see? Visit the ' +\n",
              "            '<a target=\"_blank\" href=https://colab.research.google.com/notebooks/data_table.ipynb>data table notebook</a>'\n",
              "            + ' to learn more about interactive tables.';\n",
              "          element.innerHTML = '';\n",
              "          dataTable['output_type'] = 'display_data';\n",
              "          await google.colab.output.renderOutput(dataTable, element);\n",
              "          const docLink = document.createElement('div');\n",
              "          docLink.innerHTML = docLinkHtml;\n",
              "          element.appendChild(docLink);\n",
              "        }\n",
              "      </script>\n",
              "    </div>\n",
              "  </div>\n",
              "  "
            ],
            "text/plain": [
              "      Incident Category   count  freq, %\n",
              "18        Larceny Theft  211377    30.49\n",
              "29  Other Miscellaneous   48443     6.99\n",
              "21   Malicious Mischief   46937     6.77\n",
              "1               Assault   42139     6.08\n",
              "26         Non-Criminal   41405     5.97\n",
              "2              Burglary   39063     5.64\n",
              "24  Motor Vehicle Theft   35240     5.08\n",
              "33    Recovered Vehicle   26870     3.88\n",
              "12                Fraud   21929     3.16\n",
              "20        Lost Property   20240     2.92"
            ]
          },
          "execution_count": 21,
          "metadata": {},
          "output_type": "execute_result"
        }
      ],
      "source": [
        "print(\"The most frequent incidents:\")\n",
        "cat = police.groupby(['Incident Category'])['Incident Category'].count().reset_index(name='count').sort_values(['count'],ascending=False)\n",
        "cat['freq, %'] = round(cat['count']*100/size,2)\n",
        "cat.head(10)"
      ]
    },
    {
      "cell_type": "markdown",
      "metadata": {
        "id": "s2lI8hjqdZso"
      },
      "source": [
        "Okay, this is more concrete, though the second place is occupied by \"other\". What are the crimes that occur the least, by the way?"
      ]
    },
    {
      "cell_type": "code",
      "execution_count": null,
      "metadata": {
        "colab": {
          "base_uri": "https://localhost:8080/",
          "height": 380
        },
        "id": "-oMB1IxLgCEO",
        "outputId": "083bc1f8-b799-4883-953b-9f83152e973f"
      },
      "outputs": [
        {
          "name": "stdout",
          "output_type": "stream",
          "text": [
            "The least frequent incidents:\n"
          ]
        },
        {
          "data": {
            "text/html": [
              "\n",
              "  <div id=\"df-21e36a69-5740-42f4-a08e-fa51b20e48c4\">\n",
              "    <div class=\"colab-df-container\">\n",
              "      <div>\n",
              "<style scoped>\n",
              "    .dataframe tbody tr th:only-of-type {\n",
              "        vertical-align: middle;\n",
              "    }\n",
              "\n",
              "    .dataframe tbody tr th {\n",
              "        vertical-align: top;\n",
              "    }\n",
              "\n",
              "    .dataframe thead th {\n",
              "        text-align: right;\n",
              "    }\n",
              "</style>\n",
              "<table border=\"1\" class=\"dataframe\">\n",
              "  <thead>\n",
              "    <tr style=\"text-align: right;\">\n",
              "      <th></th>\n",
              "      <th>Incident Category</th>\n",
              "      <th>count</th>\n",
              "      <th>freq, %</th>\n",
              "    </tr>\n",
              "  </thead>\n",
              "  <tbody>\n",
              "    <tr>\n",
              "      <th>32</th>\n",
              "      <td>Rape</td>\n",
              "      <td>166</td>\n",
              "      <td>0.02</td>\n",
              "    </tr>\n",
              "    <tr>\n",
              "      <th>15</th>\n",
              "      <td>Human Trafficking (A), Commercial Sex Acts</td>\n",
              "      <td>129</td>\n",
              "      <td>0.02</td>\n",
              "    </tr>\n",
              "    <tr>\n",
              "      <th>14</th>\n",
              "      <td>Homicide</td>\n",
              "      <td>103</td>\n",
              "      <td>0.01</td>\n",
              "    </tr>\n",
              "    <tr>\n",
              "      <th>38</th>\n",
              "      <td>Suspicious</td>\n",
              "      <td>99</td>\n",
              "      <td>0.01</td>\n",
              "    </tr>\n",
              "    <tr>\n",
              "      <th>19</th>\n",
              "      <td>Liquor Laws</td>\n",
              "      <td>75</td>\n",
              "      <td>0.01</td>\n",
              "    </tr>\n",
              "    <tr>\n",
              "      <th>25</th>\n",
              "      <td>Motor Vehicle Theft?</td>\n",
              "      <td>74</td>\n",
              "      <td>0.01</td>\n",
              "    </tr>\n",
              "    <tr>\n",
              "      <th>13</th>\n",
              "      <td>Gambling</td>\n",
              "      <td>32</td>\n",
              "      <td>0.00</td>\n",
              "    </tr>\n",
              "    <tr>\n",
              "      <th>17</th>\n",
              "      <td>Human Trafficking, Commercial Sex Acts</td>\n",
              "      <td>21</td>\n",
              "      <td>0.00</td>\n",
              "    </tr>\n",
              "    <tr>\n",
              "      <th>47</th>\n",
              "      <td>Weapons Offence</td>\n",
              "      <td>20</td>\n",
              "      <td>0.00</td>\n",
              "    </tr>\n",
              "    <tr>\n",
              "      <th>16</th>\n",
              "      <td>Human Trafficking (B), Involuntary Servitude</td>\n",
              "      <td>1</td>\n",
              "      <td>0.00</td>\n",
              "    </tr>\n",
              "  </tbody>\n",
              "</table>\n",
              "</div>\n",
              "      <button class=\"colab-df-convert\" onclick=\"convertToInteractive('df-21e36a69-5740-42f4-a08e-fa51b20e48c4')\"\n",
              "              title=\"Convert this dataframe to an interactive table.\"\n",
              "              style=\"display:none;\">\n",
              "        \n",
              "  <svg xmlns=\"http://www.w3.org/2000/svg\" height=\"24px\"viewBox=\"0 0 24 24\"\n",
              "       width=\"24px\">\n",
              "    <path d=\"M0 0h24v24H0V0z\" fill=\"none\"/>\n",
              "    <path d=\"M18.56 5.44l.94 2.06.94-2.06 2.06-.94-2.06-.94-.94-2.06-.94 2.06-2.06.94zm-11 1L8.5 8.5l.94-2.06 2.06-.94-2.06-.94L8.5 2.5l-.94 2.06-2.06.94zm10 10l.94 2.06.94-2.06 2.06-.94-2.06-.94-.94-2.06-.94 2.06-2.06.94z\"/><path d=\"M17.41 7.96l-1.37-1.37c-.4-.4-.92-.59-1.43-.59-.52 0-1.04.2-1.43.59L10.3 9.45l-7.72 7.72c-.78.78-.78 2.05 0 2.83L4 21.41c.39.39.9.59 1.41.59.51 0 1.02-.2 1.41-.59l7.78-7.78 2.81-2.81c.8-.78.8-2.07 0-2.86zM5.41 20L4 18.59l7.72-7.72 1.47 1.35L5.41 20z\"/>\n",
              "  </svg>\n",
              "      </button>\n",
              "      \n",
              "  <style>\n",
              "    .colab-df-container {\n",
              "      display:flex;\n",
              "      flex-wrap:wrap;\n",
              "      gap: 12px;\n",
              "    }\n",
              "\n",
              "    .colab-df-convert {\n",
              "      background-color: #E8F0FE;\n",
              "      border: none;\n",
              "      border-radius: 50%;\n",
              "      cursor: pointer;\n",
              "      display: none;\n",
              "      fill: #1967D2;\n",
              "      height: 32px;\n",
              "      padding: 0 0 0 0;\n",
              "      width: 32px;\n",
              "    }\n",
              "\n",
              "    .colab-df-convert:hover {\n",
              "      background-color: #E2EBFA;\n",
              "      box-shadow: 0px 1px 2px rgba(60, 64, 67, 0.3), 0px 1px 3px 1px rgba(60, 64, 67, 0.15);\n",
              "      fill: #174EA6;\n",
              "    }\n",
              "\n",
              "    [theme=dark] .colab-df-convert {\n",
              "      background-color: #3B4455;\n",
              "      fill: #D2E3FC;\n",
              "    }\n",
              "\n",
              "    [theme=dark] .colab-df-convert:hover {\n",
              "      background-color: #434B5C;\n",
              "      box-shadow: 0px 1px 3px 1px rgba(0, 0, 0, 0.15);\n",
              "      filter: drop-shadow(0px 1px 2px rgba(0, 0, 0, 0.3));\n",
              "      fill: #FFFFFF;\n",
              "    }\n",
              "  </style>\n",
              "\n",
              "      <script>\n",
              "        const buttonEl =\n",
              "          document.querySelector('#df-21e36a69-5740-42f4-a08e-fa51b20e48c4 button.colab-df-convert');\n",
              "        buttonEl.style.display =\n",
              "          google.colab.kernel.accessAllowed ? 'block' : 'none';\n",
              "\n",
              "        async function convertToInteractive(key) {\n",
              "          const element = document.querySelector('#df-21e36a69-5740-42f4-a08e-fa51b20e48c4');\n",
              "          const dataTable =\n",
              "            await google.colab.kernel.invokeFunction('convertToInteractive',\n",
              "                                                     [key], {});\n",
              "          if (!dataTable) return;\n",
              "\n",
              "          const docLinkHtml = 'Like what you see? Visit the ' +\n",
              "            '<a target=\"_blank\" href=https://colab.research.google.com/notebooks/data_table.ipynb>data table notebook</a>'\n",
              "            + ' to learn more about interactive tables.';\n",
              "          element.innerHTML = '';\n",
              "          dataTable['output_type'] = 'display_data';\n",
              "          await google.colab.output.renderOutput(dataTable, element);\n",
              "          const docLink = document.createElement('div');\n",
              "          docLink.innerHTML = docLinkHtml;\n",
              "          element.appendChild(docLink);\n",
              "        }\n",
              "      </script>\n",
              "    </div>\n",
              "  </div>\n",
              "  "
            ],
            "text/plain": [
              "                               Incident Category  count  freq, %\n",
              "32                                          Rape    166     0.02\n",
              "15    Human Trafficking (A), Commercial Sex Acts    129     0.02\n",
              "14                                      Homicide    103     0.01\n",
              "38                                    Suspicious     99     0.01\n",
              "19                                   Liquor Laws     75     0.01\n",
              "25                          Motor Vehicle Theft?     74     0.01\n",
              "13                                      Gambling     32     0.00\n",
              "17        Human Trafficking, Commercial Sex Acts     21     0.00\n",
              "47                               Weapons Offence     20     0.00\n",
              "16  Human Trafficking (B), Involuntary Servitude      1     0.00"
            ]
          },
          "execution_count": 22,
          "metadata": {},
          "output_type": "execute_result"
        }
      ],
      "source": [
        "print(\"The least frequent incidents:\")\n",
        "cat.tail(10)"
      ]
    },
    {
      "cell_type": "markdown",
      "metadata": {
        "id": "iBE5QhGid6rX"
      },
      "source": [
        "If we already started looking at different levels of granularity, let's also look at the subcategories in order to not miss some interesting subcategory that would be interesting to investigate with the analysis of the environment."
      ]
    },
    {
      "cell_type": "code",
      "execution_count": null,
      "metadata": {
        "colab": {
          "base_uri": "https://localhost:8080/",
          "height": 380
        },
        "id": "8ebXOqR_gCEO",
        "outputId": "26ab0ed2-59bf-4564-88fd-2b58c23c5f66"
      },
      "outputs": [
        {
          "name": "stdout",
          "output_type": "stream",
          "text": [
            "The most frequent subcategories:\n"
          ]
        },
        {
          "data": {
            "text/html": [
              "\n",
              "  <div id=\"df-3e51593f-2196-4b23-bce4-ed860af196f7\">\n",
              "    <div class=\"colab-df-container\">\n",
              "      <div>\n",
              "<style scoped>\n",
              "    .dataframe tbody tr th:only-of-type {\n",
              "        vertical-align: middle;\n",
              "    }\n",
              "\n",
              "    .dataframe tbody tr th {\n",
              "        vertical-align: top;\n",
              "    }\n",
              "\n",
              "    .dataframe thead th {\n",
              "        text-align: right;\n",
              "    }\n",
              "</style>\n",
              "<table border=\"1\" class=\"dataframe\">\n",
              "  <thead>\n",
              "    <tr style=\"text-align: right;\">\n",
              "      <th></th>\n",
              "      <th>Incident Subcategory</th>\n",
              "      <th>count</th>\n",
              "      <th>freq, %</th>\n",
              "    </tr>\n",
              "  </thead>\n",
              "  <tbody>\n",
              "    <tr>\n",
              "      <th>27</th>\n",
              "      <td>Larceny - From Vehicle</td>\n",
              "      <td>120018</td>\n",
              "      <td>17.31</td>\n",
              "    </tr>\n",
              "    <tr>\n",
              "      <th>44</th>\n",
              "      <td>Other</td>\n",
              "      <td>86428</td>\n",
              "      <td>12.47</td>\n",
              "    </tr>\n",
              "    <tr>\n",
              "      <th>30</th>\n",
              "      <td>Larceny Theft - Other</td>\n",
              "      <td>48699</td>\n",
              "      <td>7.03</td>\n",
              "    </tr>\n",
              "    <tr>\n",
              "      <th>67</th>\n",
              "      <td>Vandalism</td>\n",
              "      <td>46611</td>\n",
              "      <td>6.72</td>\n",
              "    </tr>\n",
              "    <tr>\n",
              "      <th>41</th>\n",
              "      <td>Motor Vehicle Theft</td>\n",
              "      <td>34719</td>\n",
              "      <td>5.01</td>\n",
              "    </tr>\n",
              "    <tr>\n",
              "      <th>49</th>\n",
              "      <td>Recovered Vehicle</td>\n",
              "      <td>26870</td>\n",
              "      <td>3.88</td>\n",
              "    </tr>\n",
              "    <tr>\n",
              "      <th>56</th>\n",
              "      <td>Simple Assault</td>\n",
              "      <td>26177</td>\n",
              "      <td>3.78</td>\n",
              "    </tr>\n",
              "    <tr>\n",
              "      <th>43</th>\n",
              "      <td>Non-Criminal</td>\n",
              "      <td>23777</td>\n",
              "      <td>3.43</td>\n",
              "    </tr>\n",
              "    <tr>\n",
              "      <th>18</th>\n",
              "      <td>Fraud</td>\n",
              "      <td>22945</td>\n",
              "      <td>3.31</td>\n",
              "    </tr>\n",
              "    <tr>\n",
              "      <th>36</th>\n",
              "      <td>Lost Property</td>\n",
              "      <td>20240</td>\n",
              "      <td>2.92</td>\n",
              "    </tr>\n",
              "  </tbody>\n",
              "</table>\n",
              "</div>\n",
              "      <button class=\"colab-df-convert\" onclick=\"convertToInteractive('df-3e51593f-2196-4b23-bce4-ed860af196f7')\"\n",
              "              title=\"Convert this dataframe to an interactive table.\"\n",
              "              style=\"display:none;\">\n",
              "        \n",
              "  <svg xmlns=\"http://www.w3.org/2000/svg\" height=\"24px\"viewBox=\"0 0 24 24\"\n",
              "       width=\"24px\">\n",
              "    <path d=\"M0 0h24v24H0V0z\" fill=\"none\"/>\n",
              "    <path d=\"M18.56 5.44l.94 2.06.94-2.06 2.06-.94-2.06-.94-.94-2.06-.94 2.06-2.06.94zm-11 1L8.5 8.5l.94-2.06 2.06-.94-2.06-.94L8.5 2.5l-.94 2.06-2.06.94zm10 10l.94 2.06.94-2.06 2.06-.94-2.06-.94-.94-2.06-.94 2.06-2.06.94z\"/><path d=\"M17.41 7.96l-1.37-1.37c-.4-.4-.92-.59-1.43-.59-.52 0-1.04.2-1.43.59L10.3 9.45l-7.72 7.72c-.78.78-.78 2.05 0 2.83L4 21.41c.39.39.9.59 1.41.59.51 0 1.02-.2 1.41-.59l7.78-7.78 2.81-2.81c.8-.78.8-2.07 0-2.86zM5.41 20L4 18.59l7.72-7.72 1.47 1.35L5.41 20z\"/>\n",
              "  </svg>\n",
              "      </button>\n",
              "      \n",
              "  <style>\n",
              "    .colab-df-container {\n",
              "      display:flex;\n",
              "      flex-wrap:wrap;\n",
              "      gap: 12px;\n",
              "    }\n",
              "\n",
              "    .colab-df-convert {\n",
              "      background-color: #E8F0FE;\n",
              "      border: none;\n",
              "      border-radius: 50%;\n",
              "      cursor: pointer;\n",
              "      display: none;\n",
              "      fill: #1967D2;\n",
              "      height: 32px;\n",
              "      padding: 0 0 0 0;\n",
              "      width: 32px;\n",
              "    }\n",
              "\n",
              "    .colab-df-convert:hover {\n",
              "      background-color: #E2EBFA;\n",
              "      box-shadow: 0px 1px 2px rgba(60, 64, 67, 0.3), 0px 1px 3px 1px rgba(60, 64, 67, 0.15);\n",
              "      fill: #174EA6;\n",
              "    }\n",
              "\n",
              "    [theme=dark] .colab-df-convert {\n",
              "      background-color: #3B4455;\n",
              "      fill: #D2E3FC;\n",
              "    }\n",
              "\n",
              "    [theme=dark] .colab-df-convert:hover {\n",
              "      background-color: #434B5C;\n",
              "      box-shadow: 0px 1px 3px 1px rgba(0, 0, 0, 0.15);\n",
              "      filter: drop-shadow(0px 1px 2px rgba(0, 0, 0, 0.3));\n",
              "      fill: #FFFFFF;\n",
              "    }\n",
              "  </style>\n",
              "\n",
              "      <script>\n",
              "        const buttonEl =\n",
              "          document.querySelector('#df-3e51593f-2196-4b23-bce4-ed860af196f7 button.colab-df-convert');\n",
              "        buttonEl.style.display =\n",
              "          google.colab.kernel.accessAllowed ? 'block' : 'none';\n",
              "\n",
              "        async function convertToInteractive(key) {\n",
              "          const element = document.querySelector('#df-3e51593f-2196-4b23-bce4-ed860af196f7');\n",
              "          const dataTable =\n",
              "            await google.colab.kernel.invokeFunction('convertToInteractive',\n",
              "                                                     [key], {});\n",
              "          if (!dataTable) return;\n",
              "\n",
              "          const docLinkHtml = 'Like what you see? Visit the ' +\n",
              "            '<a target=\"_blank\" href=https://colab.research.google.com/notebooks/data_table.ipynb>data table notebook</a>'\n",
              "            + ' to learn more about interactive tables.';\n",
              "          element.innerHTML = '';\n",
              "          dataTable['output_type'] = 'display_data';\n",
              "          await google.colab.output.renderOutput(dataTable, element);\n",
              "          const docLink = document.createElement('div');\n",
              "          docLink.innerHTML = docLinkHtml;\n",
              "          element.appendChild(docLink);\n",
              "        }\n",
              "      </script>\n",
              "    </div>\n",
              "  </div>\n",
              "  "
            ],
            "text/plain": [
              "      Incident Subcategory   count  freq, %\n",
              "27  Larceny - From Vehicle  120018    17.31\n",
              "44                   Other   86428    12.47\n",
              "30   Larceny Theft - Other   48699     7.03\n",
              "67               Vandalism   46611     6.72\n",
              "41     Motor Vehicle Theft   34719     5.01\n",
              "49       Recovered Vehicle   26870     3.88\n",
              "56          Simple Assault   26177     3.78\n",
              "43            Non-Criminal   23777     3.43\n",
              "18                   Fraud   22945     3.31\n",
              "36           Lost Property   20240     2.92"
            ]
          },
          "execution_count": 23,
          "metadata": {},
          "output_type": "execute_result"
        }
      ],
      "source": [
        "print(\"The most frequent subcategories:\")\n",
        "subcat = police.groupby(['Incident Subcategory'])['Incident Subcategory'].count().reset_index(name='count').sort_values(['count'],ascending=False)\n",
        "subcat['freq, %'] = round(subcat['count']*100/size,2)\n",
        "subcat.head(10)"
      ]
    },
    {
      "cell_type": "code",
      "execution_count": null,
      "metadata": {
        "colab": {
          "base_uri": "https://localhost:8080/",
          "height": 380
        },
        "id": "oL747xZygCEO",
        "outputId": "7c4ab7a7-7fbd-4036-fbbc-28c0882a4b08"
      },
      "outputs": [
        {
          "name": "stdout",
          "output_type": "stream",
          "text": [
            "The least frequent subcategories:\n"
          ]
        },
        {
          "data": {
            "text/html": [
              "\n",
              "  <div id=\"df-241397a7-5482-40c9-963d-412dadf3ec17\">\n",
              "    <div class=\"colab-df-container\">\n",
              "      <div>\n",
              "<style scoped>\n",
              "    .dataframe tbody tr th:only-of-type {\n",
              "        vertical-align: middle;\n",
              "    }\n",
              "\n",
              "    .dataframe tbody tr th {\n",
              "        vertical-align: top;\n",
              "    }\n",
              "\n",
              "    .dataframe thead th {\n",
              "        text-align: right;\n",
              "    }\n",
              "</style>\n",
              "<table border=\"1\" class=\"dataframe\">\n",
              "  <thead>\n",
              "    <tr style=\"text-align: right;\">\n",
              "      <th></th>\n",
              "      <th>Incident Subcategory</th>\n",
              "      <th>count</th>\n",
              "      <th>freq, %</th>\n",
              "    </tr>\n",
              "  </thead>\n",
              "  <tbody>\n",
              "    <tr>\n",
              "      <th>37</th>\n",
              "      <td>Manslaughter</td>\n",
              "      <td>57</td>\n",
              "      <td>0.01</td>\n",
              "    </tr>\n",
              "    <tr>\n",
              "      <th>48</th>\n",
              "      <td>Rape - Attempted</td>\n",
              "      <td>54</td>\n",
              "      <td>0.01</td>\n",
              "    </tr>\n",
              "    <tr>\n",
              "      <th>3</th>\n",
              "      <td>Bad Checks</td>\n",
              "      <td>46</td>\n",
              "      <td>0.01</td>\n",
              "    </tr>\n",
              "    <tr>\n",
              "      <th>20</th>\n",
              "      <td>Homicide</td>\n",
              "      <td>45</td>\n",
              "      <td>0.01</td>\n",
              "    </tr>\n",
              "    <tr>\n",
              "      <th>19</th>\n",
              "      <td>Gambling</td>\n",
              "      <td>32</td>\n",
              "      <td>0.00</td>\n",
              "    </tr>\n",
              "    <tr>\n",
              "      <th>53</th>\n",
              "      <td>Robbery - Residential</td>\n",
              "      <td>25</td>\n",
              "      <td>0.00</td>\n",
              "    </tr>\n",
              "    <tr>\n",
              "      <th>1</th>\n",
              "      <td>Arrest</td>\n",
              "      <td>6</td>\n",
              "      <td>0.00</td>\n",
              "    </tr>\n",
              "    <tr>\n",
              "      <th>4</th>\n",
              "      <td>Bribery</td>\n",
              "      <td>5</td>\n",
              "      <td>0.00</td>\n",
              "    </tr>\n",
              "    <tr>\n",
              "      <th>21</th>\n",
              "      <td>Homicide - Excusable</td>\n",
              "      <td>1</td>\n",
              "      <td>0.00</td>\n",
              "    </tr>\n",
              "    <tr>\n",
              "      <th>23</th>\n",
              "      <td>Human Trafficking, Involuntary Servitude</td>\n",
              "      <td>1</td>\n",
              "      <td>0.00</td>\n",
              "    </tr>\n",
              "  </tbody>\n",
              "</table>\n",
              "</div>\n",
              "      <button class=\"colab-df-convert\" onclick=\"convertToInteractive('df-241397a7-5482-40c9-963d-412dadf3ec17')\"\n",
              "              title=\"Convert this dataframe to an interactive table.\"\n",
              "              style=\"display:none;\">\n",
              "        \n",
              "  <svg xmlns=\"http://www.w3.org/2000/svg\" height=\"24px\"viewBox=\"0 0 24 24\"\n",
              "       width=\"24px\">\n",
              "    <path d=\"M0 0h24v24H0V0z\" fill=\"none\"/>\n",
              "    <path d=\"M18.56 5.44l.94 2.06.94-2.06 2.06-.94-2.06-.94-.94-2.06-.94 2.06-2.06.94zm-11 1L8.5 8.5l.94-2.06 2.06-.94-2.06-.94L8.5 2.5l-.94 2.06-2.06.94zm10 10l.94 2.06.94-2.06 2.06-.94-2.06-.94-.94-2.06-.94 2.06-2.06.94z\"/><path d=\"M17.41 7.96l-1.37-1.37c-.4-.4-.92-.59-1.43-.59-.52 0-1.04.2-1.43.59L10.3 9.45l-7.72 7.72c-.78.78-.78 2.05 0 2.83L4 21.41c.39.39.9.59 1.41.59.51 0 1.02-.2 1.41-.59l7.78-7.78 2.81-2.81c.8-.78.8-2.07 0-2.86zM5.41 20L4 18.59l7.72-7.72 1.47 1.35L5.41 20z\"/>\n",
              "  </svg>\n",
              "      </button>\n",
              "      \n",
              "  <style>\n",
              "    .colab-df-container {\n",
              "      display:flex;\n",
              "      flex-wrap:wrap;\n",
              "      gap: 12px;\n",
              "    }\n",
              "\n",
              "    .colab-df-convert {\n",
              "      background-color: #E8F0FE;\n",
              "      border: none;\n",
              "      border-radius: 50%;\n",
              "      cursor: pointer;\n",
              "      display: none;\n",
              "      fill: #1967D2;\n",
              "      height: 32px;\n",
              "      padding: 0 0 0 0;\n",
              "      width: 32px;\n",
              "    }\n",
              "\n",
              "    .colab-df-convert:hover {\n",
              "      background-color: #E2EBFA;\n",
              "      box-shadow: 0px 1px 2px rgba(60, 64, 67, 0.3), 0px 1px 3px 1px rgba(60, 64, 67, 0.15);\n",
              "      fill: #174EA6;\n",
              "    }\n",
              "\n",
              "    [theme=dark] .colab-df-convert {\n",
              "      background-color: #3B4455;\n",
              "      fill: #D2E3FC;\n",
              "    }\n",
              "\n",
              "    [theme=dark] .colab-df-convert:hover {\n",
              "      background-color: #434B5C;\n",
              "      box-shadow: 0px 1px 3px 1px rgba(0, 0, 0, 0.15);\n",
              "      filter: drop-shadow(0px 1px 2px rgba(0, 0, 0, 0.3));\n",
              "      fill: #FFFFFF;\n",
              "    }\n",
              "  </style>\n",
              "\n",
              "      <script>\n",
              "        const buttonEl =\n",
              "          document.querySelector('#df-241397a7-5482-40c9-963d-412dadf3ec17 button.colab-df-convert');\n",
              "        buttonEl.style.display =\n",
              "          google.colab.kernel.accessAllowed ? 'block' : 'none';\n",
              "\n",
              "        async function convertToInteractive(key) {\n",
              "          const element = document.querySelector('#df-241397a7-5482-40c9-963d-412dadf3ec17');\n",
              "          const dataTable =\n",
              "            await google.colab.kernel.invokeFunction('convertToInteractive',\n",
              "                                                     [key], {});\n",
              "          if (!dataTable) return;\n",
              "\n",
              "          const docLinkHtml = 'Like what you see? Visit the ' +\n",
              "            '<a target=\"_blank\" href=https://colab.research.google.com/notebooks/data_table.ipynb>data table notebook</a>'\n",
              "            + ' to learn more about interactive tables.';\n",
              "          element.innerHTML = '';\n",
              "          dataTable['output_type'] = 'display_data';\n",
              "          await google.colab.output.renderOutput(dataTable, element);\n",
              "          const docLink = document.createElement('div');\n",
              "          docLink.innerHTML = docLinkHtml;\n",
              "          element.appendChild(docLink);\n",
              "        }\n",
              "      </script>\n",
              "    </div>\n",
              "  </div>\n",
              "  "
            ],
            "text/plain": [
              "                        Incident Subcategory  count  freq, %\n",
              "37                              Manslaughter     57     0.01\n",
              "48                          Rape - Attempted     54     0.01\n",
              "3                                 Bad Checks     46     0.01\n",
              "20                                  Homicide     45     0.01\n",
              "19                                  Gambling     32     0.00\n",
              "53                     Robbery - Residential     25     0.00\n",
              "1                                     Arrest      6     0.00\n",
              "4                                    Bribery      5     0.00\n",
              "21                      Homicide - Excusable      1     0.00\n",
              "23  Human Trafficking, Involuntary Servitude      1     0.00"
            ]
          },
          "execution_count": 24,
          "metadata": {},
          "output_type": "execute_result"
        }
      ],
      "source": [
        "print(\"The least frequent subcategories:\")\n",
        "subcat.tail(10)"
      ]
    },
    {
      "cell_type": "markdown",
      "metadata": {
        "id": "vY36T8TbeZHL"
      },
      "source": [
        "Larceny from vehicle looks like concrete enough. At the same time it has enough data points. And it seems to be a crime that might be related to the street environment, as it only happens at the street."
      ]
    },
    {
      "cell_type": "markdown",
      "metadata": {
        "id": "cyGHqB2pgCEP"
      },
      "source": [
        "#### How many latitudes and longitudes are missing"
      ]
    },
    {
      "cell_type": "code",
      "execution_count": null,
      "metadata": {
        "colab": {
          "base_uri": "https://localhost:8080/"
        },
        "id": "2G1jBbrugCEP",
        "outputId": "62963316-62c9-4ce1-cad9-f5a6d9bc8819"
      },
      "outputs": [
        {
          "name": "stdout",
          "output_type": "stream",
          "text": [
            "ratio of records with missing latitude value: 0.053074072310917035\n",
            "ratio of records with missing longitude value: 0.053074072310917035\n"
          ]
        }
      ],
      "source": [
        "print(\"ratio of records with missing latitude value:\",police['Latitude'].isnull().sum()/size)\n",
        "print(\"ratio of records with missing longitude value:\",police['Longitude'].isnull().sum()/size)"
      ]
    },
    {
      "cell_type": "markdown",
      "metadata": {
        "id": "HxSYavqAe4Ka"
      },
      "source": [
        "Okay, seems like latitude and longitude are missing for the same records, because the ratio is so exactly the same. \n",
        "\n",
        "Are these records any specific though? We look into count of values of Incident Subcategory where Latitude (as well as Longitude, as we suspect) is missing."
      ]
    },
    {
      "cell_type": "code",
      "execution_count": null,
      "metadata": {
        "colab": {
          "base_uri": "https://localhost:8080/",
          "height": 489
        },
        "id": "UHlkVkgngCEP",
        "outputId": "90e4b1d8-7201-4e19-81f8-03fdd4315daa"
      },
      "outputs": [
        {
          "name": "stdout",
          "output_type": "stream",
          "text": [
            "It occurs with 58 categories out of 73\n"
          ]
        },
        {
          "data": {
            "image/png": "[encoded data removed]",
            "text/plain": [
              "<Figure size 640x480 with 1 Axes>"
            ]
          },
          "metadata": {},
          "output_type": "display_data"
        }
      ],
      "source": [
        "no_lat = police['Incident Subcategory'][police['Latitude'].isnull()]\n",
        "print(\"It occurs with {} categories out of {}\".format(pd.unique(no_lat).size,pd.unique(police['Incident Subcategory']).size))\n",
        "\n",
        "no_lat_counts = no_lat.value_counts()\n",
        "plt.hist(no_lat_counts)\n",
        "\n",
        "plt.xlabel('Incident Subcategory')\n",
        "plt.ylabel('Count')\n",
        "plt.title('Histogram of Incident Subcategory where Latitude is missing')\n",
        "\n",
        "plt.show()"
      ]
    },
    {
      "cell_type": "markdown",
      "metadata": {
        "id": "juFTY0PeiIvs"
      },
      "source": [
        "Given a small number of missing latitudes and longitudes and that almost every category has them we don't investigate further. We do not aim at traditional statistical tests in this project, and for training an neural net the amount of data we have for Larceny - From Vehicle should be enough to ensure diversity of the target even if some values are missing and some records will therefore be discarded."
      ]
    },
    {
      "cell_type": "code",
      "execution_count": null,
      "metadata": {
        "colab": {
          "base_uri": "https://localhost:8080/",
          "height": 458
        },
        "id": "8JqNnkS5gCEQ",
        "outputId": "94d2ce0d-a5f5-47ee-bbee-e5b9a1e0df0d"
      },
      "outputs": [
        {
          "name": "stdout",
          "output_type": "stream",
          "text": [
            "Creating a dataset with geographical coordinates of the most represented incident subcategory.\n",
            "Larceny - From Vehicle:\n"
          ]
        },
        {
          "data": {
            "text/html": [
              "\n",
              "  <div id=\"df-cea0ae8e-ba1d-4747-9f65-efbde62dd8a8\">\n",
              "    <div class=\"colab-df-container\">\n",
              "      <div>\n",
              "<style scoped>\n",
              "    .dataframe tbody tr th:only-of-type {\n",
              "        vertical-align: middle;\n",
              "    }\n",
              "\n",
              "    .dataframe tbody tr th {\n",
              "        vertical-align: top;\n",
              "    }\n",
              "\n",
              "    .dataframe thead th {\n",
              "        text-align: right;\n",
              "    }\n",
              "</style>\n",
              "<table border=\"1\" class=\"dataframe\">\n",
              "  <thead>\n",
              "    <tr style=\"text-align: right;\">\n",
              "      <th></th>\n",
              "      <th>Latitude</th>\n",
              "      <th>Longitude</th>\n",
              "    </tr>\n",
              "  </thead>\n",
              "  <tbody>\n",
              "    <tr>\n",
              "      <th>45</th>\n",
              "      <td>37.805497</td>\n",
              "      <td>-122.422007</td>\n",
              "    </tr>\n",
              "    <tr>\n",
              "      <th>58</th>\n",
              "      <td>37.784007</td>\n",
              "      <td>-122.404865</td>\n",
              "    </tr>\n",
              "    <tr>\n",
              "      <th>60</th>\n",
              "      <td>37.807073</td>\n",
              "      <td>-122.417261</td>\n",
              "    </tr>\n",
              "    <tr>\n",
              "      <th>62</th>\n",
              "      <td>37.807163</td>\n",
              "      <td>-122.408897</td>\n",
              "    </tr>\n",
              "    <tr>\n",
              "      <th>71</th>\n",
              "      <td>37.778021</td>\n",
              "      <td>-122.421521</td>\n",
              "    </tr>\n",
              "    <tr>\n",
              "      <th>...</th>\n",
              "      <td>...</td>\n",
              "      <td>...</td>\n",
              "    </tr>\n",
              "    <tr>\n",
              "      <th>693139</th>\n",
              "      <td>37.789783</td>\n",
              "      <td>-122.404208</td>\n",
              "    </tr>\n",
              "    <tr>\n",
              "      <th>693150</th>\n",
              "      <td>37.786085</td>\n",
              "      <td>-122.433272</td>\n",
              "    </tr>\n",
              "    <tr>\n",
              "      <th>693163</th>\n",
              "      <td>37.749187</td>\n",
              "      <td>-122.506219</td>\n",
              "    </tr>\n",
              "    <tr>\n",
              "      <th>693169</th>\n",
              "      <td>37.722726</td>\n",
              "      <td>-122.441431</td>\n",
              "    </tr>\n",
              "    <tr>\n",
              "      <th>693178</th>\n",
              "      <td>37.764037</td>\n",
              "      <td>-122.466311</td>\n",
              "    </tr>\n",
              "  </tbody>\n",
              "</table>\n",
              "<p>107065 rows × 2 columns</p>\n",
              "</div>\n",
              "      <button class=\"colab-df-convert\" onclick=\"convertToInteractive('df-cea0ae8e-ba1d-4747-9f65-efbde62dd8a8')\"\n",
              "              title=\"Convert this dataframe to an interactive table.\"\n",
              "              style=\"display:none;\">\n",
              "        \n",
              "  <svg xmlns=\"http://www.w3.org/2000/svg\" height=\"24px\"viewBox=\"0 0 24 24\"\n",
              "       width=\"24px\">\n",
              "    <path d=\"M0 0h24v24H0V0z\" fill=\"none\"/>\n",
              "    <path d=\"M18.56 5.44l.94 2.06.94-2.06 2.06-.94-2.06-.94-.94-2.06-.94 2.06-2.06.94zm-11 1L8.5 8.5l.94-2.06 2.06-.94-2.06-.94L8.5 2.5l-.94 2.06-2.06.94zm10 10l.94 2.06.94-2.06 2.06-.94-2.06-.94-.94-2.06-.94 2.06-2.06.94z\"/><path d=\"M17.41 7.96l-1.37-1.37c-.4-.4-.92-.59-1.43-.59-.52 0-1.04.2-1.43.59L10.3 9.45l-7.72 7.72c-.78.78-.78 2.05 0 2.83L4 21.41c.39.39.9.59 1.41.59.51 0 1.02-.2 1.41-.59l7.78-7.78 2.81-2.81c.8-.78.8-2.07 0-2.86zM5.41 20L4 18.59l7.72-7.72 1.47 1.35L5.41 20z\"/>\n",
              "  </svg>\n",
              "      </button>\n",
              "      \n",
              "  <style>\n",
              "    .colab-df-container {\n",
              "      display:flex;\n",
              "      flex-wrap:wrap;\n",
              "      gap: 12px;\n",
              "    }\n",
              "\n",
              "    .colab-df-convert {\n",
              "      background-color: #E8F0FE;\n",
              "      border: none;\n",
              "      border-radius: 50%;\n",
              "      cursor: pointer;\n",
              "      display: none;\n",
              "      fill: #1967D2;\n",
              "      height: 32px;\n",
              "      padding: 0 0 0 0;\n",
              "      width: 32px;\n",
              "    }\n",
              "\n",
              "    .colab-df-convert:hover {\n",
              "      background-color: #E2EBFA;\n",
              "      box-shadow: 0px 1px 2px rgba(60, 64, 67, 0.3), 0px 1px 3px 1px rgba(60, 64, 67, 0.15);\n",
              "      fill: #174EA6;\n",
              "    }\n",
              "\n",
              "    [theme=dark] .colab-df-convert {\n",
              "      background-color: #3B4455;\n",
              "      fill: #D2E3FC;\n",
              "    }\n",
              "\n",
              "    [theme=dark] .colab-df-convert:hover {\n",
              "      background-color: #434B5C;\n",
              "      box-shadow: 0px 1px 3px 1px rgba(0, 0, 0, 0.15);\n",
              "      filter: drop-shadow(0px 1px 2px rgba(0, 0, 0, 0.3));\n",
              "      fill: #FFFFFF;\n",
              "    }\n",
              "  </style>\n",
              "\n",
              "      <script>\n",
              "        const buttonEl =\n",
              "          document.querySelector('#df-cea0ae8e-ba1d-4747-9f65-efbde62dd8a8 button.colab-df-convert');\n",
              "        buttonEl.style.display =\n",
              "          google.colab.kernel.accessAllowed ? 'block' : 'none';\n",
              "\n",
              "        async function convertToInteractive(key) {\n",
              "          const element = document.querySelector('#df-cea0ae8e-ba1d-4747-9f65-efbde62dd8a8');\n",
              "          const dataTable =\n",
              "            await google.colab.kernel.invokeFunction('convertToInteractive',\n",
              "                                                     [key], {});\n",
              "          if (!dataTable) return;\n",
              "\n",
              "          const docLinkHtml = 'Like what you see? Visit the ' +\n",
              "            '<a target=\"_blank\" href=https://colab.research.google.com/notebooks/data_table.ipynb>data table notebook</a>'\n",
              "            + ' to learn more about interactive tables.';\n",
              "          element.innerHTML = '';\n",
              "          dataTable['output_type'] = 'display_data';\n",
              "          await google.colab.output.renderOutput(dataTable, element);\n",
              "          const docLink = document.createElement('div');\n",
              "          docLink.innerHTML = docLinkHtml;\n",
              "          element.appendChild(docLink);\n",
              "        }\n",
              "      </script>\n",
              "    </div>\n",
              "  </div>\n",
              "  "
            ],
            "text/plain": [
              "         Latitude   Longitude\n",
              "45      37.805497 -122.422007\n",
              "58      37.784007 -122.404865\n",
              "60      37.807073 -122.417261\n",
              "62      37.807163 -122.408897\n",
              "71      37.778021 -122.421521\n",
              "...           ...         ...\n",
              "693139  37.789783 -122.404208\n",
              "693150  37.786085 -122.433272\n",
              "693163  37.749187 -122.506219\n",
              "693169  37.722726 -122.441431\n",
              "693178  37.764037 -122.466311\n",
              "\n",
              "[107065 rows x 2 columns]"
            ]
          },
          "metadata": {},
          "output_type": "display_data"
        }
      ],
      "source": [
        "print(\"Creating a dataset with geographical coordinates of the most represented incident subcategory.\")\n",
        "larceny_fr_veh = police[:][police['Incident Subcategory'] == 'Larceny - From Vehicle']\n",
        "larceny_fr_veh = larceny_fr_veh[:][larceny_fr_veh['Latitude'].isnull() == False]\n",
        "larceny_fr_veh = larceny_fr_veh[:][larceny_fr_veh['Longitude'].isnull() == False]\n",
        "larceny_fr_veh = larceny_fr_veh[['Latitude','Longitude']].copy()\n",
        "print(\"Larceny - From Vehicle:\")\n",
        "display(larceny_fr_veh)\n"
      ]
    },
    {
      "cell_type": "markdown",
      "metadata": {
        "id": "5BoRMPeMgCEQ"
      },
      "source": [
        "## Connecting GSVI and crime geographical coordinates"
      ]
    },
    {
      "cell_type": "markdown",
      "metadata": {
        "id": "WEBQKU8ojIb5"
      },
      "source": [
        "We need the data in array form, so we create arrays."
      ]
    },
    {
      "cell_type": "code",
      "execution_count": null,
      "metadata": {
        "id": "YXFurXcmgCER"
      },
      "outputs": [],
      "source": [
        "l_f_v_a = larceny_fr_veh.to_numpy()\n",
        "gsv_a = gsv.to_numpy()"
      ]
    },
    {
      "cell_type": "markdown",
      "metadata": {
        "id": "S64M4eqOlHkL"
      },
      "source": [
        "We only need SVI from San Francisco as that's the only source of crime data we have. Here we sample all the SVI coordinates that lay within San Francisco area. "
      ]
    },
    {
      "cell_type": "code",
      "execution_count": null,
      "metadata": {
        "colab": {
          "base_uri": "https://localhost:8080/"
        },
        "id": "b3WOo8D7gCER",
        "outputId": "450dcd25-a318-4fe3-d94d-8897aa11658e"
      },
      "outputs": [
        {
          "name": "stdout",
          "output_type": "stream",
          "text": [
            "9625\n",
            "(9625, 2)\n"
          ]
        }
      ],
      "source": [
        "#make a subset of the images locations for images from San Francisco\n",
        "san_fran_ind = []\n",
        "for i in range(len(gsv_a)):\n",
        "    if geodesic(gsv_a[i],[37.755101, -122.446700]).km <= 30: #some spot in the middle for SF, 30 km is much more than needed\n",
        "        san_fran_ind.append(i)\n",
        "print(len(san_fran_ind))\n",
        "\n",
        "san_fran = gsv_a[san_fran_ind]\n",
        "print(san_fran.shape)"
      ]
    },
    {
      "cell_type": "code",
      "execution_count": null,
      "metadata": {
        "colab": {
          "base_uri": "https://localhost:8080/"
        },
        "id": "UD8YrvCPgCER",
        "outputId": "fe12a1c7-b707-492b-d56a-4d248143f3c6"
      },
      "outputs": [
        {
          "name": "stdout",
          "output_type": "stream",
          "text": [
            "(107065, 2)\n"
          ]
        }
      ],
      "source": [
        "print(l_f_v_a.shape) #let's see what the size of the selected crimes locations is"
      ]
    },
    {
      "cell_type": "markdown",
      "metadata": {
        "id": "jKSDXiXJkzan"
      },
      "source": [
        "To visually explore the relationship beetween the data out of curiosity, we make a map here. The locations for which SVI are available in the dataset are marked in blue, and the locations for which larceny from vehicle was reported are marked in red."
      ]
    },
    {
      "cell_type": "code",
      "execution_count": null,
      "metadata": {
        "colab": {
          "base_uri": "https://localhost:8080/",
          "height": 472
        },
        "id": "iVbWaVcykrzZ",
        "outputId": "7a963e47-67da-42d8-bd38-ca03a73af786"
      },
      "outputs": [
        {
          "data": {
            "image/png": "[encoded data removed]",
            "text/plain": [
              "<Figure size 640x480 with 1 Axes>"
            ]
          },
          "metadata": {},
          "output_type": "display_data"
        }
      ],
      "source": [
        "# Scatter plot for San Francisco GSVs (blue dots)\n",
        "plt.scatter(san_fran[:, 1], san_fran[:, 0], color='blue', s=1, alpha = 0.5, label='San Francisco GSVs')\n",
        "\n",
        "# Scatter plot for Larceny locations (red dots)\n",
        "plt.scatter(l_f_v_a[:, 1], l_f_v_a[:, 0], color='red', s=1, alpha = 0.5, label='Larceny locations')\n",
        "\n",
        "# Set axis labels\n",
        "plt.xlabel('Longitude')\n",
        "plt.ylabel('Latitude')\n",
        "\n",
        "# Set plot title\n",
        "plt.title('San Francisco GSVs and larceny locations')\n",
        "\n",
        "# Add legend\n",
        "plt.legend()\n",
        "\n",
        "# Display the plot\n",
        "plt.show()"
      ]
    },
    {
      "cell_type": "markdown",
      "metadata": {
        "id": "zDNpfOcujQnl"
      },
      "source": [
        "Well, just with a naked eye it looks like crime data is even more regular than the SVI. But there are some districts where red is more dense. Let's hope it shows up in the network training results.\n",
        "\n",
        "Let's check if some of the coordinates are in both datasets, so if there are crimes that happened exactly at the location for which we have SVI available. "
      ]
    },
    {
      "cell_type": "code",
      "execution_count": null,
      "metadata": {
        "colab": {
          "base_uri": "https://localhost:8080/"
        },
        "id": "pd9HJ-2QgCER",
        "outputId": "2e13fc93-7b49-4f76-86eb-a65c63557f1d"
      },
      "outputs": [
        {
          "name": "stdout",
          "output_type": "stream",
          "text": [
            "0\n"
          ]
        }
      ],
      "source": [
        "c = 0\n",
        "for row in l_f_v_a:\n",
        "    if row in gsv_a:\n",
        "        c+=1\n",
        "print(c)"
      ]
    },
    {
      "cell_type": "markdown",
      "metadata": {
        "id": "mHJ9nCa5gCER"
      },
      "source": [
        "So, none of the exact locations of crime are on the photo. Then we have to define some measure of viscinity to look into the pictures in the close viscinity from the crime scene. \n",
        "\n",
        "We now find the locations in two datasets that are close to each other. After trying different radius, from 20 to 50 meters, we chose 35 meters, because then it still makes more or less sense (the street probably looked the same 35 meters around the crime scene, at least some features should be there), but also it still produces enough labels in the minority class to train the model."
      ]
    },
    {
      "cell_type": "code",
      "execution_count": null,
      "metadata": {
        "collapsed": true,
        "id": "CVJ7r0EhgCES"
      },
      "outputs": [],
      "source": [
        "labels = np.zeros(san_fran.shape[0])\n",
        "for i in range(san_fran.shape[0]):\n",
        "    for j in range(l_f_v_a.shape[0]):\n",
        "        if geodesic(san_fran[i],l_f_v_a[j]).km <= 0.035:\n",
        "            labels[i] = 1\n",
        "\n",
        "np.savez_compressed('labels.npz', labels=labels)\n"
      ]
    },
    {
      "cell_type": "markdown",
      "metadata": {
        "id": "iWX0Fs4cjWSr"
      },
      "source": [
        "# Fine-tune pre-trained ViT\n",
        "\n",
        "We use DeiT Tiny here because the visualization pipeline that we adapt from Gildenblat, J. (2020). Exploring Explainability for Vision Transformers. https://jacobgil.github.io/deeplearning/vision-transformer-explainability is developed based on DeiT Tiny."
      ]
    },
    {
      "cell_type": "markdown",
      "metadata": {
        "id": "4CD6jGlYHNRU"
      },
      "source": [
        "### Loading images\n",
        "Because my images are not ImageNet, they are stored all in one folder, I need to create a custom dataset object in order to load them according to the labels stored in a separate array."
      ]
    },
    {
      "cell_type": "code",
      "execution_count": null,
      "metadata": {
        "id": "Fcz-fiw0rh0D"
      },
      "outputs": [],
      "source": [
        "class CustomDataset(Dataset):\n",
        "    def __init__(self, image_paths, labels, transform=None):\n",
        "        self.image_paths = image_paths\n",
        "        self.labels = labels\n",
        "        self.transform = transform\n",
        "\n",
        "    def __len__(self):\n",
        "        return len(self.image_paths)\n",
        "\n",
        "    def __getitem__(self, index):\n",
        "        image_path = self.image_paths[index]\n",
        "        label = self.labels[index]\n",
        "        image = Image.open(image_path).convert('RGB')\n",
        "\n",
        "        if self.transform is not None:\n",
        "            image = self.transform(image)\n",
        "\n",
        "        return image, label"
      ]
    },
    {
      "cell_type": "markdown",
      "metadata": {
        "id": "_hUXL2fMlXPY"
      },
      "source": [
        "We also create a folder with only the San Francisco images. I ran the code below on my local PC and then upload the resulting folder to the Google Drive to have access to it from here. One could try to use it this way, or to run it on Colab, but I don't know if that would work. Anyways, create the \"Only_San_Fran\" directory first. "
      ]
    },
    {
      "cell_type": "code",
      "execution_count": null,
      "metadata": {
        "id": "r4JbF2p3lVkl"
      },
      "outputs": [],
      "source": [
        "import shutil\n",
        "\n",
        "files_to_move = [f'street_view_{index}.jpg' for index in san_fran_ind]\n",
        "print(files_to_move)\n",
        "\n",
        "src_dir = './'\n",
        "dst_dir = src_dir+'Only_San_Fran/'\n",
        "\n",
        "for file in files_to_move:\n",
        "    shutil.copy(src_dir+file, dst_dir+file)"
      ]
    },
    {
      "cell_type": "code",
      "execution_count": null,
      "metadata": {
        "colab": {
          "base_uri": "https://localhost:8080/"
        },
        "id": "qCh9_TqFrr9j",
        "outputId": "a9057882-488e-4a51-daa0-537baef1725a"
      },
      "outputs": [
        {
          "name": "stdout",
          "output_type": "stream",
          "text": [
            "['street_view_3.jpg', 'street_view_7.jpg', 'street_view_11.jpg', 'street_view_13.jpg', 'street_view_16.jpg', 'street_view_27.jpg', 'street_view_31.jpg', 'street_view_37.jpg', 'street_view_38.jpg', 'street_view_41.jpg', 'street_view_43.jpg', 'street_view_62.jpg', 'street_view_63.jpg', 'street_view_64.jpg', 'street_view_66.jpg', 'street_view_76.jpg', 'street_view_78.jpg', 'street_view_80.jpg', 'street_view_82.jpg', 'street_view_84.jpg']\n",
            "[False False  True False False False  True  True  True  True False False\n",
            "  True False False False False  True  True False]\n",
            "[0 0 1 0 0 0 1 1 1 1 0 0 1 0 0 0 0 1 1 0]\n"
          ]
        }
      ],
      "source": [
        "#produce the image paths, import the labels\n",
        "image_paths = os.listdir('./Only_San_Fran')\n",
        "labels_init = np.load('labels_35_m.npz')['labels']\n",
        "image_paths.sort(key=lambda x: int(x[12:-4]))\n",
        "print(image_paths[:20])\n",
        "print(labels_init[:20])\n",
        "labels_init = labels_init.astype(int)\n",
        "print(labels_init[:20])\n",
        "\n",
        "os.chdir(\"./Only_San_Fran\")"
      ]
    },
    {
      "cell_type": "code",
      "execution_count": null,
      "metadata": {
        "colab": {
          "base_uri": "https://localhost:8080/"
        },
        "id": "ZFMohaWt3jAb",
        "outputId": "ff649337-420a-4ecd-cc2f-4aa1351b7f8e"
      },
      "outputs": [
        {
          "name": "stdout",
          "output_type": "stream",
          "text": [
            "2384 7241 3.0373322147651005\n"
          ]
        }
      ],
      "source": [
        "# Calculate the class imbalance ratio\n",
        "positive_count = np.sum(labels_init)\n",
        "negative_count = len(labels_init) - positive_count\n",
        "imbalance_ratio = negative_count / positive_count\n",
        "print(positive_count, negative_count, imbalance_ratio)"
      ]
    },
    {
      "cell_type": "code",
      "execution_count": null,
      "metadata": {
        "id": "8HBV9_8eruBa"
      },
      "outputs": [],
      "source": [
        "#define transforms, create your dataset using the defined paths and create the data loader\n",
        "\n",
        "# Define the data transforms\n",
        "train_transforms = transforms.Compose([\n",
        "    transforms.RandomResizedCrop(224),\n",
        "    transforms.RandomHorizontalFlip(),\n",
        "    transforms.ToTensor(),\n",
        "    transforms.Normalize([0.485, 0.456, 0.406], [0.229, 0.224, 0.225])\n",
        "])\n",
        "\n",
        "val_transforms = transforms.Compose([\n",
        "    transforms.Resize(256),\n",
        "    transforms.CenterCrop(224),\n",
        "    transforms.ToTensor(),\n",
        "    transforms.Normalize([0.485, 0.456, 0.406], [0.229, 0.224, 0.225])\n",
        "])\n",
        "\n",
        "custom_dataset = CustomDataset(image_paths, labels_init, transform=train_transforms)\n"
      ]
    },
    {
      "cell_type": "markdown",
      "metadata": {
        "id": "G6RO_7xdxyTm"
      },
      "source": [
        "Split the data:"
      ]
    },
    {
      "cell_type": "code",
      "execution_count": null,
      "metadata": {
        "id": "W1aLfoAawGHE"
      },
      "outputs": [],
      "source": [
        "# Determine the size of the train/validation split\n",
        "train_size = int(len(custom_dataset) * 0.25) #let's keep the amount of data small for model selection\n",
        "val_size = int(len(custom_dataset) * 0.15)\n",
        "test_size = len(custom_dataset) - train_size - val_size\n",
        "\n",
        "# Randomly split the dataset into train and validation sets\n",
        "train_dataset, val_dataset, test_dataset = random_split(custom_dataset, [train_size, val_size, test_size])\n",
        "\n",
        "# Create the data loaders\n",
        "train_loader = DataLoader(train_dataset, batch_size=32, shuffle=True)\n",
        "val_loader = DataLoader(val_dataset, batch_size=32, shuffle=False)\n",
        "test_loader = DataLoader(test_dataset, batch_size=32, shuffle=False)"
      ]
    },
    {
      "cell_type": "markdown",
      "metadata": {
        "id": "gqIJdA_Qv7s5"
      },
      "source": [
        "You always need to install timm while on Colab when you run this notebook."
      ]
    },
    {
      "cell_type": "code",
      "execution_count": null,
      "metadata": {
        "colab": {
          "base_uri": "https://localhost:8080/"
        },
        "id": "J-BneF3bzHzl",
        "outputId": "ff2aebee-428a-487c-e90f-7e8b6490f962"
      },
      "outputs": [
        {
          "name": "stdout",
          "output_type": "stream",
          "text": [
            "Looking in indexes: https://pypi.org/simple, https://us-python.pkg.dev/colab-wheels/public/simple/\n",
            "Collecting timm\n",
            "  Downloading timm-0.6.13-py3-none-any.whl (549 kB)\n",
            "\u001b[2K     \u001b[90m━━━━━━━━━━━━━━━━━━━━━━━━━━━━━━━━━━━━━━\u001b[0m \u001b[32m549.1/549.1 kB\u001b[0m \u001b[31m11.7 MB/s\u001b[0m eta \u001b[36m0:00:00\u001b[0m\n",
            "\u001b[?25hRequirement already satisfied: pyyaml in /usr/local/lib/python3.9/dist-packages (from timm) (6.0)\n",
            "Requirement already satisfied: torch>=1.7 in /usr/local/lib/python3.9/dist-packages (from timm) (2.0.0+cu118)\n",
            "Collecting huggingface-hub\n",
            "  Downloading huggingface_hub-0.13.4-py3-none-any.whl (200 kB)\n",
            "\u001b[2K     \u001b[90m━━━━━━━━━━━━━━━━━━━━━━━━━━━━━━━━━━━━━━\u001b[0m \u001b[32m200.1/200.1 kB\u001b[0m \u001b[31m27.0 MB/s\u001b[0m eta \u001b[36m0:00:00\u001b[0m\n",
            "\u001b[?25hRequirement already satisfied: torchvision in /usr/local/lib/python3.9/dist-packages (from timm) (0.15.1+cu118)\n",
            "Requirement already satisfied: typing-extensions in /usr/local/lib/python3.9/dist-packages (from torch>=1.7->timm) (4.5.0)\n",
            "Requirement already satisfied: jinja2 in /usr/local/lib/python3.9/dist-packages (from torch>=1.7->timm) (3.1.2)\n",
            "Requirement already satisfied: networkx in /usr/local/lib/python3.9/dist-packages (from torch>=1.7->timm) (3.1)\n",
            "Requirement already satisfied: filelock in /usr/local/lib/python3.9/dist-packages (from torch>=1.7->timm) (3.11.0)\n",
            "Requirement already satisfied: triton==2.0.0 in /usr/local/lib/python3.9/dist-packages (from torch>=1.7->timm) (2.0.0)\n",
            "Requirement already satisfied: sympy in /usr/local/lib/python3.9/dist-packages (from torch>=1.7->timm) (1.11.1)\n",
            "Requirement already satisfied: lit in /usr/local/lib/python3.9/dist-packages (from triton==2.0.0->torch>=1.7->timm) (16.0.1)\n",
            "Requirement already satisfied: cmake in /usr/local/lib/python3.9/dist-packages (from triton==2.0.0->torch>=1.7->timm) (3.25.2)\n",
            "Requirement already satisfied: packaging>=20.9 in /usr/local/lib/python3.9/dist-packages (from huggingface-hub->timm) (23.0)\n",
            "Requirement already satisfied: tqdm>=4.42.1 in /usr/local/lib/python3.9/dist-packages (from huggingface-hub->timm) (4.65.0)\n",
            "Requirement already satisfied: requests in /usr/local/lib/python3.9/dist-packages (from huggingface-hub->timm) (2.27.1)\n",
            "Requirement already satisfied: pillow!=8.3.*,>=5.3.0 in /usr/local/lib/python3.9/dist-packages (from torchvision->timm) (8.4.0)\n",
            "Requirement already satisfied: numpy in /usr/local/lib/python3.9/dist-packages (from torchvision->timm) (1.22.4)\n",
            "Requirement already satisfied: MarkupSafe>=2.0 in /usr/local/lib/python3.9/dist-packages (from jinja2->torch>=1.7->timm) (2.1.2)\n",
            "Requirement already satisfied: certifi>=2017.4.17 in /usr/local/lib/python3.9/dist-packages (from requests->huggingface-hub->timm) (2022.12.7)\n",
            "Requirement already satisfied: urllib3<1.27,>=1.21.1 in /usr/local/lib/python3.9/dist-packages (from requests->huggingface-hub->timm) (1.26.15)\n",
            "Requirement already satisfied: idna<4,>=2.5 in /usr/local/lib/python3.9/dist-packages (from requests->huggingface-hub->timm) (3.4)\n",
            "Requirement already satisfied: charset-normalizer~=2.0.0 in /usr/local/lib/python3.9/dist-packages (from requests->huggingface-hub->timm) (2.0.12)\n",
            "Requirement already satisfied: mpmath>=0.19 in /usr/local/lib/python3.9/dist-packages (from sympy->torch>=1.7->timm) (1.3.0)\n",
            "Installing collected packages: huggingface-hub, timm\n",
            "Successfully installed huggingface-hub-0.13.4 timm-0.6.13\n"
          ]
        }
      ],
      "source": [
        "!pip install timm"
      ]
    },
    {
      "cell_type": "markdown",
      "metadata": {
        "id": "wKXvLVvNUdxv"
      },
      "source": [
        "Now we will perform model selection. In order to be able to test a number of hyperparameters without re-defining model in the code every time, we define a function for building and training a model and displaying some metrics on it. "
      ]
    },
    {
      "cell_type": "code",
      "execution_count": null,
      "metadata": {
        "id": "7lgThu8gJkiH"
      },
      "outputs": [],
      "source": [
        "def train_custom_model(model_name, unfreeze_layers, optimizer_fn, lr):\n",
        "\n",
        "  #load the pre-trained model:\n",
        "  model = torch.hub.load('facebookresearch/deit:main', model_name, pretrained=True)\n",
        "\n",
        "  # Get the number of transformer layers\n",
        "  num_transformer_layers = len(model.blocks)\n",
        "\n",
        "  # Freeze all layers except the specified number of unfrozen layers\n",
        "  for i in range(num_transformer_layers - unfreeze_layers):\n",
        "      for param in model.blocks[i].parameters():\n",
        "          param.requires_grad = False\n",
        "\n",
        "  #adjust the head\n",
        "  num_classes = 1\n",
        "  in_features = model.head.in_features\n",
        "\n",
        "  model.head = nn.Sequential(\n",
        "      nn.BatchNorm1d(num_features=in_features), #include batch normalization for efficiency\n",
        "      nn.ReLU(),\n",
        "      nn.Linear(in_features, num_classes)\n",
        "  )\n",
        "\n",
        "  model = model.to(device)\n",
        "\n",
        "  #create a weight tensor for the positive (minor) class\n",
        "  pos_weight = torch.FloatTensor([imbalance_ratio]).to(device)\n",
        "\n",
        "  #define the loss function\n",
        "  criterion = nn.BCEWithLogitsLoss(pos_weight=pos_weight).to(device) #this one includes Sigmoid \n",
        "  #it's advised by Torch to use this instead of nn.Sigmoid in the net and BCELoss here. More stable.\n",
        "\n",
        "  #define your optimizer\n",
        "  optimizer = optimizer_fn(model.parameters(), lr=lr)\n",
        "\n",
        "  #define the learning rate scheduler\n",
        "  scheduler = ReduceLROnPlateau(optimizer, mode='min', factor=0.1, patience=10, verbose=True)\n",
        "\n",
        "  num_epochs = 15\n",
        "  for epoch in range(num_epochs):\n",
        "      # Training\n",
        "      train_loss = 0.0\n",
        "      train_correct = 0\n",
        "      train_total = 0\n",
        "      train_f1_total = 0\n",
        "      model.train()\n",
        "      for inputs, labels in train_loader:\n",
        "          inputs, labels = inputs.to(device), labels.to(device)\n",
        "          optimizer.zero_grad()\n",
        "          outputs = model(inputs)\n",
        "          loss = criterion(outputs.squeeze(), labels.float())\n",
        "          loss.backward()\n",
        "          optimizer.step()\n",
        "          train_loss += loss.item()\n",
        "          outputs = torch.sigmoid(outputs)  # apply sigmoid to get probabilities\n",
        "          preds = (outputs.squeeze() >= 0.5).float()  \n",
        "          train_correct += torch.sum(preds == labels.data)\n",
        "          train_total += labels.size(0)\n",
        "          train_f1_total += f1_score(labels.cpu().detach(), preds.cpu().detach(), average='weighted') * labels.size(0)\n",
        "\n",
        "      train_loss = train_loss / len(train_loader.dataset)\n",
        "      train_acc = train_correct.item() / train_total\n",
        "      train_f1 = train_f1_total / train_total\n",
        "\n",
        "      # Validation\n",
        "      val_loss = 0.0\n",
        "      val_correct = 0\n",
        "      val_total = 0\n",
        "      val_f1_total = 0\n",
        "      model.eval()\n",
        "      with torch.no_grad():\n",
        "          for inputs, labels in val_loader:\n",
        "              inputs, labels = inputs.to(device), labels.to(device)\n",
        "              outputs = model(inputs)\n",
        "              loss = criterion(outputs.squeeze(), labels.float())\n",
        "              val_loss += loss.item()\n",
        "              outputs = torch.sigmoid(outputs)\n",
        "              preds = (outputs.squeeze() >= 0.5).float()\n",
        "              val_correct += torch.sum(preds == labels.data)  \n",
        "              val_total += labels.size(0)\n",
        "              val_f1_total += f1_score(labels.cpu().detach(), preds.cpu().detach(), average='weighted') * labels.size(0)\n",
        "\n",
        "      val_loss = val_loss / len(val_loader.dataset)\n",
        "      val_acc = val_correct.item() / val_total\n",
        "      val_f1 = val_f1_total / val_total\n",
        "\n",
        "      scheduler.step(val_loss)\n",
        "\n",
        "      print(f'Epoch [{epoch+1}/{num_epochs}],\\nTrain Loss: {train_loss:.4f}, Train Acc: {train_acc:.4f}, \\\n",
        "      Train F1: {train_f1:.4f}, Val Loss: {val_loss:.4f}, Val Acc: {val_acc:.4f}, Val F1: {val_f1:.4f}')"
      ]
    },
    {
      "cell_type": "markdown",
      "metadata": {
        "id": "SNhm2WO5U0Qg"
      },
      "source": [
        "Now we can do hyperparameter exploration with our small training sample and our custom function. We will later train the most promising model with more data and for more epochs."
      ]
    },
    {
      "cell_type": "code",
      "execution_count": null,
      "metadata": {
        "colab": {
          "background_save": true,
          "base_uri": "https://localhost:8080/"
        },
        "id": "MzK6ELNPUtOg",
        "outputId": "7ff9a8e6-0364-4217-97b6-f9ee385f2576"
      },
      "outputs": [
        {
          "name": "stdout",
          "output_type": "stream",
          "text": [
            "deit_tiny_patch16_224 0 0.001 <class 'torch.optim.adam.Adam'>\n",
            "\n"
          ]
        },
        {
          "name": "stderr",
          "output_type": "stream",
          "text": [
            "Downloading: \"https://github.com/facebookresearch/deit/zipball/main\" to /root/.cache/torch/hub/main.zip\n",
            "Downloading: \"https://dl.fbaipublicfiles.com/deit/deit_tiny_patch16_224-a1311bcf.pth\" to /root/.cache/torch/hub/checkpoints/deit_tiny_patch16_224-a1311bcf.pth\n",
            "100%|██████████| 21.9M/21.9M [00:00<00:00, 109MB/s]\n"
          ]
        },
        {
          "name": "stdout",
          "output_type": "stream",
          "text": [
            "Epoch [1/15],\n",
            "Train Loss: 0.0332, Train Acc: 0.5179,       Train F1: 0.5427, Val Loss: 0.0335, Val Acc: 0.5191, Val F1: 0.5524\n",
            "Epoch [2/15],\n",
            "Train Loss: 0.0332, Train Acc: 0.5432,       Train F1: 0.5678, Val Loss: 0.0336, Val Acc: 0.4816, Val F1: 0.5125\n",
            "Epoch [3/15],\n",
            "Train Loss: 0.0331, Train Acc: 0.5374,       Train F1: 0.5668, Val Loss: 0.0334, Val Acc: 0.6168, Val F1: 0.6323\n",
            "Epoch [4/15],\n",
            "Train Loss: 0.0330, Train Acc: 0.5183,       Train F1: 0.5494, Val Loss: 0.0334, Val Acc: 0.7034, Val F1: 0.6754\n",
            "Epoch [5/15],\n",
            "Train Loss: 0.0330, Train Acc: 0.5528,       Train F1: 0.5819, Val Loss: 0.0334, Val Acc: 0.4893, Val F1: 0.5220\n",
            "Epoch [6/15],\n",
            "Train Loss: 0.0331, Train Acc: 0.5470,       Train F1: 0.5782, Val Loss: 0.0329, Val Acc: 0.5336, Val F1: 0.5675\n",
            "Epoch [7/15],\n",
            "Train Loss: 0.0330, Train Acc: 0.5544,       Train F1: 0.5828, Val Loss: 0.0328, Val Acc: 0.5807, Val F1: 0.6085\n",
            "Epoch [8/15],\n",
            "Train Loss: 0.0326, Train Acc: 0.5411,       Train F1: 0.5713, Val Loss: 0.0330, Val Acc: 0.4692, Val F1: 0.4973\n",
            "Epoch [9/15],\n",
            "Train Loss: 0.0328, Train Acc: 0.5241,       Train F1: 0.5559, Val Loss: 0.0331, Val Acc: 0.6376, Val F1: 0.6493\n",
            "Epoch [10/15],\n",
            "Train Loss: 0.0326, Train Acc: 0.5786,       Train F1: 0.6059, Val Loss: 0.0333, Val Acc: 0.5336, Val F1: 0.5655\n",
            "Epoch [11/15],\n",
            "Train Loss: 0.0326, Train Acc: 0.5881,       Train F1: 0.6093, Val Loss: 0.0331, Val Acc: 0.4075, Val F1: 0.4151\n",
            "Epoch [12/15],\n",
            "Train Loss: 0.0329, Train Acc: 0.6031,       Train F1: 0.6221, Val Loss: 0.0328, Val Acc: 0.5454, Val F1: 0.5769\n",
            "Epoch [13/15],\n",
            "Train Loss: 0.0327, Train Acc: 0.4904,       Train F1: 0.5174, Val Loss: 0.0329, Val Acc: 0.6237, Val F1: 0.6414\n",
            "Epoch [14/15],\n",
            "Train Loss: 0.0325, Train Acc: 0.5943,       Train F1: 0.6107, Val Loss: 0.0328, Val Acc: 0.6306, Val F1: 0.6436\n",
            "Epoch [15/15],\n",
            "Train Loss: 0.0324, Train Acc: 0.6126,       Train F1: 0.6320, Val Loss: 0.0332, Val Acc: 0.4608, Val F1: 0.4812\n",
            "\n",
            "deit_tiny_patch16_224 0 0.001 <class 'torch.optim.sgd.SGD'>\n",
            "\n"
          ]
        },
        {
          "name": "stderr",
          "output_type": "stream",
          "text": [
            "Using cache found in /root/.cache/torch/hub/facebookresearch_deit_main\n"
          ]
        },
        {
          "name": "stdout",
          "output_type": "stream",
          "text": [
            "Epoch [1/15],\n",
            "Train Loss: 0.0336, Train Acc: 0.4983,       Train F1: 0.5337, Val Loss: 0.0338, Val Acc: 0.4955, Val F1: 0.5320\n",
            "Epoch [2/15],\n",
            "Train Loss: 0.0336, Train Acc: 0.5042,       Train F1: 0.5394, Val Loss: 0.0339, Val Acc: 0.5107, Val F1: 0.5455\n",
            "Epoch [3/15],\n",
            "Train Loss: 0.0335, Train Acc: 0.5025,       Train F1: 0.5374, Val Loss: 0.0337, Val Acc: 0.5080, Val F1: 0.5407\n",
            "Epoch [4/15],\n",
            "Train Loss: 0.0332, Train Acc: 0.5108,       Train F1: 0.5462, Val Loss: 0.0334, Val Acc: 0.5412, Val F1: 0.5731\n",
            "Epoch [5/15],\n",
            "Train Loss: 0.0331, Train Acc: 0.5054,       Train F1: 0.5402, Val Loss: 0.0335, Val Acc: 0.5149, Val F1: 0.5492\n",
            "Epoch [6/15],\n",
            "Train Loss: 0.0327, Train Acc: 0.5353,       Train F1: 0.5708, Val Loss: 0.0331, Val Acc: 0.5329, Val F1: 0.5662\n",
            "Epoch [7/15],\n",
            "Train Loss: 0.0329, Train Acc: 0.5291,       Train F1: 0.5646, Val Loss: 0.0329, Val Acc: 0.5537, Val F1: 0.5852\n",
            "Epoch [8/15],\n",
            "Train Loss: 0.0332, Train Acc: 0.5353,       Train F1: 0.5705, Val Loss: 0.0331, Val Acc: 0.5315, Val F1: 0.5649\n",
            "Epoch [9/15],\n",
            "Train Loss: 0.0327, Train Acc: 0.5353,       Train F1: 0.5695, Val Loss: 0.0331, Val Acc: 0.5218, Val F1: 0.5543\n",
            "Epoch [10/15],\n",
            "Train Loss: 0.0326, Train Acc: 0.5507,       Train F1: 0.5841, Val Loss: 0.0333, Val Acc: 0.5405, Val F1: 0.5732\n",
            "Epoch [11/15],\n",
            "Train Loss: 0.0325, Train Acc: 0.5441,       Train F1: 0.5773, Val Loss: 0.0327, Val Acc: 0.5440, Val F1: 0.5759\n",
            "Epoch [12/15],\n",
            "Train Loss: 0.0326, Train Acc: 0.5420,       Train F1: 0.5747, Val Loss: 0.0327, Val Acc: 0.5842, Val F1: 0.6127\n",
            "Epoch [13/15],\n",
            "Train Loss: 0.0325, Train Acc: 0.5561,       Train F1: 0.5891, Val Loss: 0.0328, Val Acc: 0.5551, Val F1: 0.5849\n",
            "Epoch [14/15],\n",
            "Train Loss: 0.0326, Train Acc: 0.5603,       Train F1: 0.5913, Val Loss: 0.0328, Val Acc: 0.5475, Val F1: 0.5780\n",
            "Epoch [15/15],\n",
            "Train Loss: 0.0326, Train Acc: 0.5607,       Train F1: 0.5934, Val Loss: 0.0327, Val Acc: 0.5378, Val F1: 0.5690\n",
            "\n",
            "deit_tiny_patch16_224 0 0.001 <class 'torch.optim.adagrad.Adagrad'>\n",
            "\n"
          ]
        },
        {
          "name": "stderr",
          "output_type": "stream",
          "text": [
            "Using cache found in /root/.cache/torch/hub/facebookresearch_deit_main\n"
          ]
        },
        {
          "name": "stdout",
          "output_type": "stream",
          "text": [
            "Epoch [1/15],\n",
            "Train Loss: 0.0336, Train Acc: 0.5357,       Train F1: 0.5674, Val Loss: 0.0337, Val Acc: 0.5350, Val F1: 0.5669\n",
            "Epoch [2/15],\n",
            "Train Loss: 0.0332, Train Acc: 0.5258,       Train F1: 0.5606, Val Loss: 0.0334, Val Acc: 0.5080, Val F1: 0.5407\n",
            "Epoch [3/15],\n",
            "Train Loss: 0.0329, Train Acc: 0.5278,       Train F1: 0.5627, Val Loss: 0.0329, Val Acc: 0.5482, Val F1: 0.5795\n",
            "Epoch [4/15],\n",
            "Train Loss: 0.0326, Train Acc: 0.5357,       Train F1: 0.5691, Val Loss: 0.0334, Val Acc: 0.5163, Val F1: 0.5499\n",
            "Epoch [5/15],\n",
            "Train Loss: 0.0328, Train Acc: 0.5495,       Train F1: 0.5810, Val Loss: 0.0331, Val Acc: 0.5301, Val F1: 0.5628\n",
            "Epoch [6/15],\n",
            "Train Loss: 0.0327, Train Acc: 0.5507,       Train F1: 0.5846, Val Loss: 0.0329, Val Acc: 0.5405, Val F1: 0.5736\n",
            "Epoch [7/15],\n",
            "Train Loss: 0.0324, Train Acc: 0.5499,       Train F1: 0.5824, Val Loss: 0.0325, Val Acc: 0.5405, Val F1: 0.5727\n",
            "Epoch [8/15],\n",
            "Train Loss: 0.0323, Train Acc: 0.5628,       Train F1: 0.5959, Val Loss: 0.0326, Val Acc: 0.5509, Val F1: 0.5845\n",
            "Epoch [9/15],\n",
            "Train Loss: 0.0325, Train Acc: 0.5640,       Train F1: 0.5993, Val Loss: 0.0326, Val Acc: 0.5981, Val F1: 0.6247\n",
            "Epoch [10/15],\n",
            "Train Loss: 0.0322, Train Acc: 0.5673,       Train F1: 0.5982, Val Loss: 0.0326, Val Acc: 0.5634, Val F1: 0.5932\n",
            "Epoch [11/15],\n",
            "Train Loss: 0.0321, Train Acc: 0.5665,       Train F1: 0.5982, Val Loss: 0.0329, Val Acc: 0.5648, Val F1: 0.5955\n",
            "Epoch [12/15],\n",
            "Train Loss: 0.0322, Train Acc: 0.5790,       Train F1: 0.6093, Val Loss: 0.0327, Val Acc: 0.5572, Val F1: 0.5878\n",
            "Epoch [13/15],\n",
            "Train Loss: 0.0326, Train Acc: 0.5756,       Train F1: 0.6072, Val Loss: 0.0330, Val Acc: 0.5558, Val F1: 0.5881\n",
            "Epoch [14/15],\n",
            "Train Loss: 0.0322, Train Acc: 0.5761,       Train F1: 0.6065, Val Loss: 0.0329, Val Acc: 0.5551, Val F1: 0.5872\n",
            "Epoch [15/15],\n",
            "Train Loss: 0.0324, Train Acc: 0.5657,       Train F1: 0.5976, Val Loss: 0.0325, Val Acc: 0.5800, Val F1: 0.6094\n",
            "\n",
            "deit_tiny_patch16_224 0 0.01 <class 'torch.optim.adam.Adam'>\n",
            "\n"
          ]
        },
        {
          "name": "stderr",
          "output_type": "stream",
          "text": [
            "Using cache found in /root/.cache/torch/hub/facebookresearch_deit_main\n"
          ]
        },
        {
          "name": "stdout",
          "output_type": "stream",
          "text": [
            "Epoch [1/15],\n",
            "Train Loss: 0.0345, Train Acc: 0.5137,       Train F1: 0.5198, Val Loss: 0.0339, Val Acc: 0.5565, Val F1: 0.5846\n",
            "Epoch [2/15],\n",
            "Train Loss: 0.0342, Train Acc: 0.4950,       Train F1: 0.5088, Val Loss: 0.0346, Val Acc: 0.6008, Val F1: 0.6114\n",
            "Epoch [3/15],\n",
            "Train Loss: 0.0334, Train Acc: 0.5170,       Train F1: 0.5335, Val Loss: 0.0336, Val Acc: 0.6535, Val F1: 0.6630\n",
            "Epoch [4/15],\n",
            "Train Loss: 0.0334, Train Acc: 0.5353,       Train F1: 0.5468, Val Loss: 0.0345, Val Acc: 0.5149, Val F1: 0.5477\n",
            "Epoch [5/15],\n",
            "Train Loss: 0.0334, Train Acc: 0.5187,       Train F1: 0.5278, Val Loss: 0.0329, Val Acc: 0.5655, Val F1: 0.5963\n",
            "Epoch [6/15],\n",
            "Train Loss: 0.0332, Train Acc: 0.5378,       Train F1: 0.5573, Val Loss: 0.0331, Val Acc: 0.4040, Val F1: 0.4053\n",
            "Epoch [7/15],\n",
            "Train Loss: 0.0330, Train Acc: 0.5549,       Train F1: 0.5779, Val Loss: 0.0332, Val Acc: 0.5703, Val F1: 0.5971\n",
            "Epoch [8/15],\n",
            "Train Loss: 0.0332, Train Acc: 0.5615,       Train F1: 0.5859, Val Loss: 0.0334, Val Acc: 0.4816, Val F1: 0.5136\n",
            "Epoch [9/15],\n",
            "Train Loss: 0.0328, Train Acc: 0.5237,       Train F1: 0.5518, Val Loss: 0.0331, Val Acc: 0.5544, Val F1: 0.5854\n",
            "Epoch [10/15],\n",
            "Train Loss: 0.0329, Train Acc: 0.5312,       Train F1: 0.5599, Val Loss: 0.0331, Val Acc: 0.4754, Val F1: 0.5051\n",
            "Epoch [11/15],\n",
            "Train Loss: 0.0330, Train Acc: 0.5179,       Train F1: 0.5283, Val Loss: 0.0329, Val Acc: 0.6486, Val F1: 0.6508\n",
            "Epoch [12/15],\n",
            "Train Loss: 0.0330, Train Acc: 0.5241,       Train F1: 0.5424, Val Loss: 0.0329, Val Acc: 0.5357, Val F1: 0.5690\n",
            "Epoch [13/15],\n",
            "Train Loss: 0.0329, Train Acc: 0.6039,       Train F1: 0.6170, Val Loss: 0.0331, Val Acc: 0.5094, Val F1: 0.5425\n",
            "Epoch [14/15],\n",
            "Train Loss: 0.0327, Train Acc: 0.5191,       Train F1: 0.5461, Val Loss: 0.0342, Val Acc: 0.6362, Val F1: 0.6341\n",
            "Epoch [15/15],\n",
            "Train Loss: 0.0329, Train Acc: 0.5748,       Train F1: 0.5940, Val Loss: 0.0329, Val Acc: 0.5634, Val F1: 0.5929\n",
            "\n",
            "deit_tiny_patch16_224 0 0.01 <class 'torch.optim.sgd.SGD'>\n",
            "\n"
          ]
        },
        {
          "name": "stderr",
          "output_type": "stream",
          "text": [
            "Using cache found in /root/.cache/torch/hub/facebookresearch_deit_main\n"
          ]
        },
        {
          "name": "stdout",
          "output_type": "stream",
          "text": [
            "Epoch [1/15],\n",
            "Train Loss: 0.0331, Train Acc: 0.4875,       Train F1: 0.5096, Val Loss: 0.0333, Val Acc: 0.6660, Val F1: 0.6706\n",
            "Epoch [2/15],\n",
            "Train Loss: 0.0326, Train Acc: 0.5536,       Train F1: 0.5801, Val Loss: 0.0328, Val Acc: 0.6542, Val F1: 0.6600\n",
            "Epoch [3/15],\n",
            "Train Loss: 0.0328, Train Acc: 0.5532,       Train F1: 0.5801, Val Loss: 0.0326, Val Acc: 0.5364, Val F1: 0.5686\n",
            "Epoch [4/15],\n",
            "Train Loss: 0.0328, Train Acc: 0.5233,       Train F1: 0.5522, Val Loss: 0.0320, Val Acc: 0.6389, Val F1: 0.6598\n",
            "Epoch [5/15],\n",
            "Train Loss: 0.0322, Train Acc: 0.5673,       Train F1: 0.5940, Val Loss: 0.0321, Val Acc: 0.6590, Val F1: 0.6731\n",
            "Epoch [6/15],\n",
            "Train Loss: 0.0321, Train Acc: 0.5840,       Train F1: 0.6106, Val Loss: 0.0323, Val Acc: 0.6854, Val F1: 0.6870\n",
            "Epoch [7/15],\n",
            "Train Loss: 0.0320, Train Acc: 0.6002,       Train F1: 0.6226, Val Loss: 0.0322, Val Acc: 0.5759, Val F1: 0.6058\n",
            "Epoch [8/15],\n",
            "Train Loss: 0.0321, Train Acc: 0.5910,       Train F1: 0.6170, Val Loss: 0.0323, Val Acc: 0.6521, Val F1: 0.6651\n",
            "Epoch [9/15],\n",
            "Train Loss: 0.0319, Train Acc: 0.5931,       Train F1: 0.6198, Val Loss: 0.0318, Val Acc: 0.6403, Val F1: 0.6609\n",
            "Epoch [10/15],\n",
            "Train Loss: 0.0320, Train Acc: 0.6043,       Train F1: 0.6316, Val Loss: 0.0323, Val Acc: 0.5378, Val F1: 0.5686\n",
            "Epoch [11/15],\n",
            "Train Loss: 0.0319, Train Acc: 0.5993,       Train F1: 0.6263, Val Loss: 0.0323, Val Acc: 0.5281, Val F1: 0.5556\n",
            "Epoch [12/15],\n",
            "Train Loss: 0.0319, Train Acc: 0.5964,       Train F1: 0.6216, Val Loss: 0.0325, Val Acc: 0.6327, Val F1: 0.6529\n",
            "Epoch [13/15],\n",
            "Train Loss: 0.0321, Train Acc: 0.6060,       Train F1: 0.6322, Val Loss: 0.0322, Val Acc: 0.5759, Val F1: 0.6072\n",
            "Epoch [14/15],\n",
            "Train Loss: 0.0315, Train Acc: 0.6022,       Train F1: 0.6287, Val Loss: 0.0324, Val Acc: 0.5121, Val F1: 0.5382\n",
            "Epoch [15/15],\n",
            "Train Loss: 0.0318, Train Acc: 0.5856,       Train F1: 0.6126, Val Loss: 0.0323, Val Acc: 0.6209, Val F1: 0.6441\n",
            "\n",
            "deit_tiny_patch16_224 0 0.01 <class 'torch.optim.adagrad.Adagrad'>\n",
            "\n"
          ]
        },
        {
          "name": "stderr",
          "output_type": "stream",
          "text": [
            "Using cache found in /root/.cache/torch/hub/facebookresearch_deit_main\n"
          ]
        },
        {
          "name": "stdout",
          "output_type": "stream",
          "text": [
            "Epoch [1/15],\n",
            "Train Loss: 0.0336, Train Acc: 0.5262,       Train F1: 0.5437, Val Loss: 0.0333, Val Acc: 0.6625, Val F1: 0.6636\n",
            "Epoch [2/15],\n",
            "Train Loss: 0.0334, Train Acc: 0.6031,       Train F1: 0.6125, Val Loss: 0.0334, Val Acc: 0.2696, Val F1: 0.1645\n",
            "Epoch [3/15],\n",
            "Train Loss: 0.0334, Train Acc: 0.4705,       Train F1: 0.4921, Val Loss: 0.0331, Val Acc: 0.3721, Val F1: 0.3627\n",
            "Epoch [4/15],\n",
            "Train Loss: 0.0331, Train Acc: 0.5441,       Train F1: 0.5705, Val Loss: 0.0332, Val Acc: 0.4123, Val F1: 0.4208\n",
            "Epoch [5/15],\n",
            "Train Loss: 0.0330, Train Acc: 0.5112,       Train F1: 0.5438, Val Loss: 0.0331, Val Acc: 0.6902, Val F1: 0.6834\n",
            "Epoch [6/15],\n",
            "Train Loss: 0.0329, Train Acc: 0.5835,       Train F1: 0.6068, Val Loss: 0.0333, Val Acc: 0.5994, Val F1: 0.6237\n",
            "Epoch [7/15],\n",
            "Train Loss: 0.0328, Train Acc: 0.5594,       Train F1: 0.5872, Val Loss: 0.0329, Val Acc: 0.6507, Val F1: 0.6577\n",
            "Epoch [8/15],\n",
            "Train Loss: 0.0328, Train Acc: 0.5765,       Train F1: 0.6044, Val Loss: 0.0330, Val Acc: 0.6188, Val F1: 0.6397\n",
            "Epoch [9/15],\n",
            "Train Loss: 0.0327, Train Acc: 0.5715,       Train F1: 0.5996, Val Loss: 0.0330, Val Acc: 0.5163, Val F1: 0.5478\n",
            "Epoch [10/15],\n",
            "Train Loss: 0.0328, Train Acc: 0.5623,       Train F1: 0.5943, Val Loss: 0.0329, Val Acc: 0.5703, Val F1: 0.6007\n",
            "Epoch [11/15],\n",
            "Train Loss: 0.0329, Train Acc: 0.5840,       Train F1: 0.6095, Val Loss: 0.0329, Val Acc: 0.3971, Val F1: 0.3935\n",
            "Epoch [12/15],\n",
            "Train Loss: 0.0323, Train Acc: 0.5428,       Train F1: 0.5714, Val Loss: 0.0326, Val Acc: 0.6306, Val F1: 0.6502\n",
            "Epoch [13/15],\n",
            "Train Loss: 0.0328, Train Acc: 0.5931,       Train F1: 0.6191, Val Loss: 0.0327, Val Acc: 0.5807, Val F1: 0.6091\n",
            "Epoch [14/15],\n",
            "Train Loss: 0.0327, Train Acc: 0.5644,       Train F1: 0.5942, Val Loss: 0.0329, Val Acc: 0.5024, Val F1: 0.5318\n",
            "Epoch [15/15],\n",
            "Train Loss: 0.0326, Train Acc: 0.5948,       Train F1: 0.6213, Val Loss: 0.0330, Val Acc: 0.5315, Val F1: 0.5644\n",
            "\n",
            "deit_tiny_patch16_224 1 0.001 <class 'torch.optim.adam.Adam'>\n",
            "\n"
          ]
        },
        {
          "name": "stderr",
          "output_type": "stream",
          "text": [
            "Using cache found in /root/.cache/torch/hub/facebookresearch_deit_main\n"
          ]
        },
        {
          "name": "stdout",
          "output_type": "stream",
          "text": [
            "Epoch [1/15],\n",
            "Train Loss: 0.0339, Train Acc: 0.4884,       Train F1: 0.5161, Val Loss: 0.0344, Val Acc: 0.2710, Val F1: 0.1643\n",
            "Epoch [2/15],\n",
            "Train Loss: 0.0337, Train Acc: 0.5291,       Train F1: 0.5439, Val Loss: 0.0332, Val Acc: 0.6743, Val F1: 0.6640\n",
            "Epoch [3/15],\n",
            "Train Loss: 0.0335, Train Acc: 0.4830,       Train F1: 0.5045, Val Loss: 0.0335, Val Acc: 0.3957, Val F1: 0.4052\n",
            "Epoch [4/15],\n",
            "Train Loss: 0.0334, Train Acc: 0.4593,       Train F1: 0.4694, Val Loss: 0.0337, Val Acc: 0.4158, Val F1: 0.4344\n",
            "Epoch [5/15],\n",
            "Train Loss: 0.0332, Train Acc: 0.5594,       Train F1: 0.5853, Val Loss: 0.0339, Val Acc: 0.3028, Val F1: 0.2402\n",
            "Epoch [6/15],\n",
            "Train Loss: 0.0333, Train Acc: 0.5191,       Train F1: 0.5381, Val Loss: 0.0341, Val Acc: 0.7263, Val F1: 0.6725\n",
            "Epoch [7/15],\n",
            "Train Loss: 0.0330, Train Acc: 0.5116,       Train F1: 0.5410, Val Loss: 0.0329, Val Acc: 0.5870, Val F1: 0.6145\n",
            "Epoch [8/15],\n",
            "Train Loss: 0.0332, Train Acc: 0.5046,       Train F1: 0.5299, Val Loss: 0.0333, Val Acc: 0.7325, Val F1: 0.6827\n",
            "Epoch [9/15],\n",
            "Train Loss: 0.0329, Train Acc: 0.5906,       Train F1: 0.6108, Val Loss: 0.0334, Val Acc: 0.7415, Val F1: 0.6625\n",
            "Epoch [10/15],\n",
            "Train Loss: 0.0330, Train Acc: 0.5353,       Train F1: 0.5609, Val Loss: 0.0337, Val Acc: 0.7110, Val F1: 0.6711\n",
            "Epoch [11/15],\n",
            "Train Loss: 0.0329, Train Acc: 0.5403,       Train F1: 0.5708, Val Loss: 0.0330, Val Acc: 0.5405, Val F1: 0.5719\n",
            "Epoch [12/15],\n",
            "Train Loss: 0.0329, Train Acc: 0.5474,       Train F1: 0.5701, Val Loss: 0.0337, Val Acc: 0.2793, Val F1: 0.1788\n",
            "Epoch [13/15],\n",
            "Train Loss: 0.0327, Train Acc: 0.5495,       Train F1: 0.5745, Val Loss: 0.0336, Val Acc: 0.2834, Val F1: 0.1858\n",
            "Epoch [14/15],\n",
            "Train Loss: 0.0330, Train Acc: 0.5507,       Train F1: 0.5749, Val Loss: 0.0329, Val Acc: 0.5392, Val F1: 0.5700\n",
            "Epoch [15/15],\n",
            "Train Loss: 0.0328, Train Acc: 0.5715,       Train F1: 0.5959, Val Loss: 0.0338, Val Acc: 0.3680, Val F1: 0.3513\n",
            "\n",
            "deit_tiny_patch16_224 1 0.001 <class 'torch.optim.sgd.SGD'>\n",
            "\n"
          ]
        },
        {
          "name": "stderr",
          "output_type": "stream",
          "text": [
            "Using cache found in /root/.cache/torch/hub/facebookresearch_deit_main\n"
          ]
        },
        {
          "name": "stdout",
          "output_type": "stream",
          "text": [
            "Epoch [1/15],\n",
            "Train Loss: 0.0342, Train Acc: 0.5711,       Train F1: 0.5945, Val Loss: 0.0340, Val Acc: 0.5163, Val F1: 0.5491\n",
            "Epoch [2/15],\n",
            "Train Loss: 0.0335, Train Acc: 0.5249,       Train F1: 0.5584, Val Loss: 0.0333, Val Acc: 0.5343, Val F1: 0.5686\n",
            "Epoch [3/15],\n",
            "Train Loss: 0.0337, Train Acc: 0.5062,       Train F1: 0.5422, Val Loss: 0.0335, Val Acc: 0.4976, Val F1: 0.5319\n",
            "Epoch [4/15],\n",
            "Train Loss: 0.0333, Train Acc: 0.5150,       Train F1: 0.5507, Val Loss: 0.0333, Val Acc: 0.5204, Val F1: 0.5548\n",
            "Epoch [5/15],\n",
            "Train Loss: 0.0333, Train Acc: 0.5104,       Train F1: 0.5461, Val Loss: 0.0334, Val Acc: 0.5239, Val F1: 0.5583\n",
            "Epoch [6/15],\n",
            "Train Loss: 0.0335, Train Acc: 0.5079,       Train F1: 0.5427, Val Loss: 0.0328, Val Acc: 0.5419, Val F1: 0.5750\n",
            "Epoch [7/15],\n",
            "Train Loss: 0.0329, Train Acc: 0.5220,       Train F1: 0.5576, Val Loss: 0.0328, Val Acc: 0.5551, Val F1: 0.5872\n",
            "Epoch [8/15],\n",
            "Train Loss: 0.0329, Train Acc: 0.5611,       Train F1: 0.5928, Val Loss: 0.0331, Val Acc: 0.5267, Val F1: 0.5596\n",
            "Epoch [9/15],\n",
            "Train Loss: 0.0327, Train Acc: 0.5428,       Train F1: 0.5760, Val Loss: 0.0330, Val Acc: 0.5371, Val F1: 0.5698\n",
            "Epoch [10/15],\n",
            "Train Loss: 0.0328, Train Acc: 0.5461,       Train F1: 0.5787, Val Loss: 0.0331, Val Acc: 0.5267, Val F1: 0.5604\n",
            "Epoch [11/15],\n",
            "Train Loss: 0.0328, Train Acc: 0.5341,       Train F1: 0.5690, Val Loss: 0.0329, Val Acc: 0.5454, Val F1: 0.5774\n",
            "Epoch [12/15],\n",
            "Train Loss: 0.0329, Train Acc: 0.5441,       Train F1: 0.5774, Val Loss: 0.0326, Val Acc: 0.5392, Val F1: 0.5725\n",
            "Epoch [13/15],\n",
            "Train Loss: 0.0327, Train Acc: 0.5540,       Train F1: 0.5884, Val Loss: 0.0326, Val Acc: 0.5495, Val F1: 0.5799\n",
            "Epoch [14/15],\n",
            "Train Loss: 0.0327, Train Acc: 0.5582,       Train F1: 0.5912, Val Loss: 0.0325, Val Acc: 0.5523, Val F1: 0.5826\n",
            "Epoch [15/15],\n",
            "Train Loss: 0.0324, Train Acc: 0.5682,       Train F1: 0.5988, Val Loss: 0.0326, Val Acc: 0.5426, Val F1: 0.5741\n",
            "\n",
            "deit_tiny_patch16_224 1 0.001 <class 'torch.optim.adagrad.Adagrad'>\n",
            "\n"
          ]
        },
        {
          "name": "stderr",
          "output_type": "stream",
          "text": [
            "Using cache found in /root/.cache/torch/hub/facebookresearch_deit_main\n"
          ]
        },
        {
          "name": "stdout",
          "output_type": "stream",
          "text": [
            "Epoch [1/15],\n",
            "Train Loss: 0.0332, Train Acc: 0.5806,       Train F1: 0.6003, Val Loss: 0.0330, Val Acc: 0.6244, Val F1: 0.6422\n",
            "Epoch [2/15],\n",
            "Train Loss: 0.0328, Train Acc: 0.5798,       Train F1: 0.6091, Val Loss: 0.0331, Val Acc: 0.5544, Val F1: 0.5852\n",
            "Epoch [3/15],\n",
            "Train Loss: 0.0326, Train Acc: 0.5744,       Train F1: 0.6061, Val Loss: 0.0329, Val Acc: 0.5135, Val F1: 0.5464\n",
            "Epoch [4/15],\n",
            "Train Loss: 0.0323, Train Acc: 0.5607,       Train F1: 0.5934, Val Loss: 0.0330, Val Acc: 0.5343, Val F1: 0.5669\n",
            "Epoch [5/15],\n",
            "Train Loss: 0.0320, Train Acc: 0.5873,       Train F1: 0.6180, Val Loss: 0.0332, Val Acc: 0.5308, Val F1: 0.5632\n",
            "Epoch [6/15],\n",
            "Train Loss: 0.0321, Train Acc: 0.5902,       Train F1: 0.6191, Val Loss: 0.0328, Val Acc: 0.5793, Val F1: 0.6090\n",
            "Epoch [7/15],\n",
            "Train Loss: 0.0316, Train Acc: 0.5943,       Train F1: 0.6235, Val Loss: 0.0330, Val Acc: 0.5821, Val F1: 0.6094\n",
            "Epoch [8/15],\n",
            "Train Loss: 0.0314, Train Acc: 0.5993,       Train F1: 0.6283, Val Loss: 0.0325, Val Acc: 0.6050, Val F1: 0.6299\n",
            "Epoch [9/15],\n",
            "Train Loss: 0.0312, Train Acc: 0.6155,       Train F1: 0.6442, Val Loss: 0.0323, Val Acc: 0.5690, Val F1: 0.5993\n",
            "Epoch [10/15],\n",
            "Train Loss: 0.0310, Train Acc: 0.6259,       Train F1: 0.6522, Val Loss: 0.0324, Val Acc: 0.5946, Val F1: 0.6228\n",
            "Epoch [11/15],\n",
            "Train Loss: 0.0317, Train Acc: 0.6039,       Train F1: 0.6316, Val Loss: 0.0328, Val Acc: 0.5814, Val F1: 0.6073\n",
            "Epoch [12/15],\n",
            "Train Loss: 0.0310, Train Acc: 0.6234,       Train F1: 0.6507, Val Loss: 0.0329, Val Acc: 0.5863, Val F1: 0.6151\n",
            "Epoch [13/15],\n",
            "Train Loss: 0.0305, Train Acc: 0.6376,       Train F1: 0.6646, Val Loss: 0.0326, Val Acc: 0.6175, Val F1: 0.6389\n",
            "Epoch [14/15],\n",
            "Train Loss: 0.0307, Train Acc: 0.6230,       Train F1: 0.6486, Val Loss: 0.0323, Val Acc: 0.5953, Val F1: 0.6196\n",
            "Epoch [15/15],\n",
            "Train Loss: 0.0304, Train Acc: 0.6376,       Train F1: 0.6622, Val Loss: 0.0332, Val Acc: 0.5267, Val F1: 0.5567\n",
            "\n",
            "deit_tiny_patch16_224 1 0.01 <class 'torch.optim.adam.Adam'>\n",
            "\n"
          ]
        },
        {
          "name": "stderr",
          "output_type": "stream",
          "text": [
            "Using cache found in /root/.cache/torch/hub/facebookresearch_deit_main\n"
          ]
        },
        {
          "name": "stdout",
          "output_type": "stream",
          "text": [
            "Epoch [1/15],\n",
            "Train Loss: 0.0350, Train Acc: 0.5237,       Train F1: 0.4912, Val Loss: 0.0361, Val Acc: 0.2467, Val F1: 0.1042\n",
            "Epoch [2/15],\n",
            "Train Loss: 0.0344, Train Acc: 0.4904,       Train F1: 0.4838, Val Loss: 0.0350, Val Acc: 0.2883, Val F1: 0.1991\n",
            "Epoch [3/15],\n",
            "Train Loss: 0.0337, Train Acc: 0.4688,       Train F1: 0.4597, Val Loss: 0.0344, Val Acc: 0.2633, Val F1: 0.1400\n",
            "Epoch [4/15],\n",
            "Train Loss: 0.0334, Train Acc: 0.5104,       Train F1: 0.4881, Val Loss: 0.0334, Val Acc: 0.3756, Val F1: 0.3693\n",
            "Epoch [5/15],\n",
            "Train Loss: 0.0335, Train Acc: 0.4098,       Train F1: 0.4126, Val Loss: 0.0334, Val Acc: 0.3181, Val F1: 0.2617\n",
            "Epoch [6/15],\n",
            "Train Loss: 0.0332, Train Acc: 0.4015,       Train F1: 0.3687, Val Loss: 0.0350, Val Acc: 0.7526, Val F1: 0.6493\n",
            "Epoch [7/15],\n",
            "Train Loss: 0.0330, Train Acc: 0.5399,       Train F1: 0.5395, Val Loss: 0.0333, Val Acc: 0.3070, Val F1: 0.2506\n",
            "Epoch [8/15],\n",
            "Train Loss: 0.0330, Train Acc: 0.3953,       Train F1: 0.3888, Val Loss: 0.0354, Val Acc: 0.3832, Val F1: 0.3977\n",
            "Epoch [9/15],\n",
            "Train Loss: 0.0332, Train Acc: 0.4177,       Train F1: 0.4212, Val Loss: 0.0340, Val Acc: 0.3236, Val F1: 0.2799\n",
            "Epoch [10/15],\n",
            "Train Loss: 0.0330, Train Acc: 0.3658,       Train F1: 0.3465, Val Loss: 0.0333, Val Acc: 0.4116, Val F1: 0.4288\n",
            "Epoch [11/15],\n",
            "Train Loss: 0.0331, Train Acc: 0.4751,       Train F1: 0.4928, Val Loss: 0.0334, Val Acc: 0.5433, Val F1: 0.5706\n",
            "Epoch [12/15],\n",
            "Train Loss: 0.0331, Train Acc: 0.5395,       Train F1: 0.5530, Val Loss: 0.0333, Val Acc: 0.3846, Val F1: 0.3981\n",
            "Epoch [13/15],\n",
            "Train Loss: 0.0332, Train Acc: 0.3886,       Train F1: 0.3926, Val Loss: 0.0332, Val Acc: 0.4151, Val F1: 0.4262\n",
            "Epoch [14/15],\n",
            "Train Loss: 0.0331, Train Acc: 0.3724,       Train F1: 0.3345, Val Loss: 0.0332, Val Acc: 0.3416, Val F1: 0.3190\n",
            "Epoch [15/15],\n",
            "Train Loss: 0.0330, Train Acc: 0.3383,       Train F1: 0.3054, Val Loss: 0.0343, Val Acc: 0.2467, Val F1: 0.1042\n",
            "\n",
            "deit_tiny_patch16_224 1 0.01 <class 'torch.optim.sgd.SGD'>\n",
            "\n"
          ]
        },
        {
          "name": "stderr",
          "output_type": "stream",
          "text": [
            "Using cache found in /root/.cache/torch/hub/facebookresearch_deit_main\n"
          ]
        },
        {
          "name": "stdout",
          "output_type": "stream",
          "text": [
            "Epoch [1/15],\n",
            "Train Loss: 0.0334, Train Acc: 0.5407,       Train F1: 0.5617, Val Loss: 0.0332, Val Acc: 0.4997, Val F1: 0.5315\n",
            "Epoch [2/15],\n",
            "Train Loss: 0.0333, Train Acc: 0.5224,       Train F1: 0.5553, Val Loss: 0.0328, Val Acc: 0.5759, Val F1: 0.6061\n",
            "Epoch [3/15],\n",
            "Train Loss: 0.0331, Train Acc: 0.5108,       Train F1: 0.5413, Val Loss: 0.0331, Val Acc: 0.4463, Val F1: 0.4684\n",
            "Epoch [4/15],\n",
            "Train Loss: 0.0328, Train Acc: 0.5673,       Train F1: 0.5937, Val Loss: 0.0335, Val Acc: 0.3430, Val F1: 0.3121\n",
            "Epoch [5/15],\n",
            "Train Loss: 0.0322, Train Acc: 0.5278,       Train F1: 0.5424, Val Loss: 0.0331, Val Acc: 0.7124, Val F1: 0.6932\n",
            "Epoch [6/15],\n",
            "Train Loss: 0.0323, Train Acc: 0.5865,       Train F1: 0.6074, Val Loss: 0.0331, Val Acc: 0.5849, Val F1: 0.6135\n",
            "Epoch [7/15],\n",
            "Train Loss: 0.0326, Train Acc: 0.5561,       Train F1: 0.5868, Val Loss: 0.0327, Val Acc: 0.6653, Val F1: 0.6663\n",
            "Epoch [8/15],\n",
            "Train Loss: 0.0319, Train Acc: 0.5998,       Train F1: 0.6254, Val Loss: 0.0324, Val Acc: 0.6244, Val F1: 0.6483\n"
          ]
        }
      ],
      "source": [
        "m_names = ['deit_tiny_patch16_224', 'deit_small_patch16_224']\n",
        "to_unfreeze = [0,1,2,5]\n",
        "lr_s = [0.001, 0.01]\n",
        "optimizers = [optim.Adam, optim.SGD, optim.Adagrad]\n",
        "\n",
        "for m_n in m_names:\n",
        "  for to_unfr in to_unfreeze:\n",
        "    for lr in lr_s:\n",
        "      for opt in optimizers:\n",
        "        print(m_n, to_unfr, lr, str(opt), end='\\n\\n')\n",
        "        train_custom_model(m_n, to_unfr, opt, lr)\n",
        "        print('')"
      ]
    },
    {
      "cell_type": "code",
      "execution_count": null,
      "metadata": {
        "colab": {
          "base_uri": "https://localhost:8080/"
        },
        "id": "dF--E4AGzk1g",
        "outputId": "9d7dd04e-6c3d-4c9f-a4d0-f5ffe48c1183"
      },
      "outputs": [
        {
          "name": "stdout",
          "output_type": "stream",
          "text": [
            "Tue Apr 11 14:53:04 2023       \n",
            "+-----------------------------------------------------------------------------+\n",
            "| NVIDIA-SMI 525.85.12    Driver Version: 525.85.12    CUDA Version: 12.0     |\n",
            "|-------------------------------+----------------------+----------------------+\n",
            "| GPU  Name        Persistence-M| Bus-Id        Disp.A | Volatile Uncorr. ECC |\n",
            "| Fan  Temp  Perf  Pwr:Usage/Cap|         Memory-Usage | GPU-Util  Compute M. |\n",
            "|                               |                      |               MIG M. |\n",
            "|===============================+======================+======================|\n",
            "|   0  Tesla T4            Off  | 00000000:00:04.0 Off |                    0 |\n",
            "| N/A   77C    P0    31W /  70W |   1213MiB / 15360MiB |      0%      Default |\n",
            "|                               |                      |                  N/A |\n",
            "+-------------------------------+----------------------+----------------------+\n",
            "                                                                               \n",
            "+-----------------------------------------------------------------------------+\n",
            "| Processes:                                                                  |\n",
            "|  GPU   GI   CI        PID   Type   Process name                  GPU Memory |\n",
            "|        ID   ID                                                   Usage      |\n",
            "|=============================================================================|\n",
            "+-----------------------------------------------------------------------------+\n"
          ]
        }
      ],
      "source": [
        "#if you ever want to see how well Colab is utilizing GPU for your code, build this statement into the loop:\n",
        "!nvidia-smi"
      ]
    },
    {
      "cell_type": "code",
      "execution_count": null,
      "metadata": {
        "colab": {
          "base_uri": "https://localhost:8080/"
        },
        "id": "r5gGoD12jg_-",
        "outputId": "2d305e0c-f019-4252-9526-9f4ad7d81193"
      },
      "outputs": [
        {
          "name": "stdout",
          "output_type": "stream",
          "text": [
            "Epoch [1/15],\n",
            "Train Loss: 0.0325, Train Acc: 0.5495,     Train F1: 0.5811, Val Loss: 0.0325, Val Acc: 0.5579, Val F1: 0.5914\n",
            "Epoch [2/15],\n",
            "Train Loss: 0.0320, Train Acc: 0.5753,     Train F1: 0.6039, Val Loss: 0.0318, Val Acc: 0.6161, Val F1: 0.6427\n",
            "Epoch [3/15],\n",
            "Train Loss: 0.0318, Train Acc: 0.5786,     Train F1: 0.6050, Val Loss: 0.0317, Val Acc: 0.6396, Val F1: 0.6550\n",
            "Epoch [4/15],\n",
            "Train Loss: 0.0315, Train Acc: 0.5969,     Train F1: 0.6228, Val Loss: 0.0320, Val Acc: 0.6570, Val F1: 0.6696\n",
            "Epoch [5/15],\n",
            "Train Loss: 0.0315, Train Acc: 0.6012,     Train F1: 0.6267, Val Loss: 0.0317, Val Acc: 0.6008, Val F1: 0.6318\n",
            "Epoch [6/15],\n",
            "Train Loss: 0.0315, Train Acc: 0.6001,     Train F1: 0.6273, Val Loss: 0.0320, Val Acc: 0.5780, Val F1: 0.6105\n",
            "Epoch [7/15],\n",
            "Train Loss: 0.0315, Train Acc: 0.5997,     Train F1: 0.6275, Val Loss: 0.0317, Val Acc: 0.5648, Val F1: 0.5992\n",
            "Epoch [8/15],\n",
            "Train Loss: 0.0313, Train Acc: 0.6148,     Train F1: 0.6391, Val Loss: 0.0317, Val Acc: 0.5218, Val F1: 0.5562\n",
            "Epoch [9/15],\n",
            "Train Loss: 0.0315, Train Acc: 0.6010,     Train F1: 0.6287, Val Loss: 0.0315, Val Acc: 0.6098, Val F1: 0.6360\n",
            "Epoch [10/15],\n",
            "Train Loss: 0.0313, Train Acc: 0.6089,     Train F1: 0.6362, Val Loss: 0.0316, Val Acc: 0.5849, Val F1: 0.6176\n",
            "Epoch [11/15],\n",
            "Train Loss: 0.0314, Train Acc: 0.6038,     Train F1: 0.6309, Val Loss: 0.0315, Val Acc: 0.5371, Val F1: 0.5725\n",
            "Epoch [12/15],\n",
            "Train Loss: 0.0310, Train Acc: 0.6209,     Train F1: 0.6472, Val Loss: 0.0312, Val Acc: 0.6556, Val F1: 0.6769\n",
            "Epoch [13/15],\n",
            "Train Loss: 0.0312, Train Acc: 0.6092,     Train F1: 0.6371, Val Loss: 0.0315, Val Acc: 0.5329, Val F1: 0.5687\n",
            "Epoch [14/15],\n",
            "Train Loss: 0.0313, Train Acc: 0.6058,     Train F1: 0.6328, Val Loss: 0.0316, Val Acc: 0.5696, Val F1: 0.6021\n",
            "Epoch [15/15],\n",
            "Train Loss: 0.0312, Train Acc: 0.6034,     Train F1: 0.6315, Val Loss: 0.0317, Val Acc: 0.5350, Val F1: 0.5691\n"
          ]
        }
      ],
      "source": [
        "\n"
      ]
    },
    {
      "cell_type": "markdown",
      "metadata": {
        "id": "f_ERmHeXJ0NH"
      },
      "source": [
        "So, the performance is far from impressive. Let's experiment with the architecture and augment the data maybe. "
      ]
    },
    {
      "cell_type": "markdown",
      "metadata": {
        "id": "aqTsAieVRNbQ"
      },
      "source": [
        "# Unsorted stuff from before"
      ]
    },
    {
      "cell_type": "code",
      "execution_count": null,
      "metadata": {
        "id": "lt1jHphAwJpT"
      },
      "outputs": [],
      "source": [
        "s, ss = 2000, 2050\n",
        "indxs = list(range(s,ss))\n",
        "images = [Image.open(path) for path in image_paths[s:ss]]\n",
        "inputs = [val_transforms(image).unsqueeze(0) for image in images]\n",
        "inputs = torch.stack(inputs)\n",
        "inputs = inputs.to(device)\n",
        "outs = {}\n",
        "\n",
        "model.eval()\n",
        "with torch.no_grad():\n",
        "  for input, i in zip(inputs,indxs):\n",
        "    output = model(input)\n",
        "    outs[output.item()] = image_paths[i]\n",
        "    preds = torch.round(torch.sigmoid(output))\n",
        "    print(f\"{i}, {image_paths[i]} preds: {preds.item()}, orig: {labels_init[i]}\")\n",
        "\n",
        "keys_sorted = list(outs.keys()) \n",
        "keys_sorted.sort()\n",
        "for j in keys_sorted[:5]:\n",
        "  print(outs[j], j)"
      ]
    },
    {
      "cell_type": "markdown",
      "metadata": {
        "id": "azcD2rv82uVk"
      },
      "source": [
        "To scan through more images use this:"
      ]
    },
    {
      "cell_type": "code",
      "execution_count": null,
      "metadata": {
        "id": "UPPOY0XS2qjq"
      },
      "outputs": [],
      "source": [
        "s, ss = 300, 800\n",
        "indxs = list(range(s,ss))\n",
        "images = torch.empty((len(indxs),3,224,224), dtype = torch.float32, device=device)\n",
        "for i,ind in enumerate(indxs):\n",
        "  img = Image.open(image_paths[ind])\n",
        "  inp = val_transforms(img).unsqueeze(0).to(device)\n",
        "  images[i] = inp"
      ]
    },
    {
      "cell_type": "code",
      "execution_count": null,
      "metadata": {
        "id": "u_KaaGQv38NR"
      },
      "outputs": [],
      "source": [
        "outs = {}\n",
        "\n",
        "model.eval()\n",
        "with torch.no_grad():\n",
        "  for input, i in zip(images,indxs):\n",
        "    output = model(input)\n",
        "    outs[output.item()] = image_paths[i]\n",
        "\n",
        "keys_sorted = list(outs.keys()) \n",
        "keys_sorted.sort(reverse=True)\n",
        "for j in keys_sorted[:5]:\n",
        "  print(outs[j], j)"
      ]
    },
    {
      "cell_type": "markdown",
      "metadata": {
        "id": "kFVpXUSkEygQ"
      },
      "source": [
        "So this one does actually learn something."
      ]
    },
    {
      "cell_type": "markdown",
      "metadata": {
        "id": "gPRpxzIjRJAL"
      },
      "source": [
        "# To save the model:"
      ]
    },
    {
      "cell_type": "code",
      "execution_count": null,
      "metadata": {
        "id": "Yf_66Qko8212"
      },
      "outputs": [],
      "source": [
        "#save the model - what if it's good enough\n",
        "model_name = '/model_demo.pth' #change this if you wish\n",
        "model_name = PATH + model_name\n",
        "torch.save(model, model_name)\n"
      ]
    },
    {
      "cell_type": "markdown",
      "metadata": {
        "id": "RmKZR8ZVAA37"
      },
      "source": [
        "#to load the model later:"
      ]
    },
    {
      "cell_type": "code",
      "execution_count": null,
      "metadata": {
        "id": "dQq7vwza9Iow"
      },
      "outputs": [],
      "source": [
        "#define the architecture and use all the pretraining:\n",
        "model = torch.hub.load('facebookresearch/deit:main', 'deit_tiny_patch16_224', pretrained=True)\n",
        "\n",
        "#modify the architecture for your needs and also the way it was during fine-tuning:\n",
        "num_classes = 2\n",
        "in_features = model.head.in_features\n",
        "model.head = nn.Linear(in_features, num_classes)\n",
        "\n",
        "#load the state dictionary of the model fine-tuned on your data:\n",
        "model.load_state_dict(torch.load('content/drive/MyDrive/for thesis/model_first_try.pth'))"
      ]
    },
    {
      "cell_type": "code",
      "execution_count": null,
      "metadata": {
        "id": "e2tKXYlfb00R"
      },
      "outputs": [],
      "source": [
        "#or if it's not the state dict, but just the model itself:\n",
        "!pip install timm\n",
        "model = torch.load('model_fourth_try.pth')\n",
        "model = model.to(device)"
      ]
    },
    {
      "cell_type": "code",
      "execution_count": null,
      "metadata": {
        "id": "gqQGftjWn6Fs"
      },
      "outputs": [],
      "source": [
        "model"
      ]
    },
    {
      "cell_type": "markdown",
      "metadata": {
        "id": "jNjNP3EDHdfm"
      },
      "source": [
        "# Following the Gildenblat's post on heat maps for vision transformers"
      ]
    },
    {
      "cell_type": "code",
      "execution_count": null,
      "metadata": {
        "id": "S4KqjJ44AVtt"
      },
      "outputs": [],
      "source": [
        "os.chdir(os.pardir)\n",
        "print(os.getcwd())"
      ]
    },
    {
      "cell_type": "code",
      "execution_count": null,
      "metadata": {
        "id": "td3L-1v-Rnnw"
      },
      "outputs": [],
      "source": [
        "!git clone https://github.com/jacobgil/vit-explain"
      ]
    },
    {
      "cell_type": "code",
      "execution_count": null,
      "metadata": {
        "id": "LQaHANRPR6uF"
      },
      "outputs": [],
      "source": [
        "os.chdir('./vit-explain')\n",
        "!ls"
      ]
    },
    {
      "cell_type": "code",
      "execution_count": null,
      "metadata": {
        "id": "Z-vEnHazJrHt"
      },
      "outputs": [],
      "source": [
        "!pip uninstall opencv-python-headless -y\n",
        "!pip install opencv-python-headless\n"
      ]
    },
    {
      "cell_type": "code",
      "execution_count": null,
      "metadata": {
        "id": "2cbABOFhN7PJ"
      },
      "outputs": [],
      "source": [
        "!python vit_explain.py --image_path street_view_11.jpg --head_fusion max --discard_ratio 0.9 --category_index 1"
      ]
    },
    {
      "cell_type": "code",
      "execution_count": null,
      "metadata": {
        "id": "q97n14C1LJ_v"
      },
      "outputs": [],
      "source": [
        "print(os.getcwd())"
      ]
    },
    {
      "cell_type": "markdown",
      "metadata": {
        "id": "CIo4ThTYSRyf"
      },
      "source": [
        "For this to work I modified the original function a bit, inserted device as an argument to ensure the code can run on Google Colab on GPU, otherwise it kept giving RuntimeError because tensors are on different GPUs."
      ]
    },
    {
      "cell_type": "code",
      "execution_count": null,
      "metadata": {
        "id": "N_VglCodNHlL"
      },
      "outputs": [],
      "source": [
        "from vit_grad_rollout import VITAttentionGradRollout, grad_rollout\n",
        "\n",
        "# Load an example image\n",
        "image = Image.open(\"street_view_11.jpg\")\n",
        "\n",
        "# Preprocess the image\n",
        "input_tensor = val_transforms(image)\n",
        "input_tensor = input_tensor.to(device)\n",
        "\n",
        "# Create the grad rollout object\n",
        "grad_rollout = VITAttentionGradRollout(model) #could also try , attention_layer_name='blocks.4.attn_drop'\n",
        "\n",
        "# Get the mask for the input image\n",
        "mask = grad_rollout(input_tensor.unsqueeze(0), category_index=1)\n",
        "\n",
        "# Use the mask to highlight the important regions of the image\n",
        "highlighted_image = input_tensor.permute(1, 2, 0) * mask[..., None]\n",
        "\n",
        "# Save the highlighted image\n",
        "transforms.ToPILImage()(highlighted_image).save(\"highlighted_image.jpg\")\n"
      ]
    },
    {
      "cell_type": "code",
      "execution_count": null,
      "metadata": {
        "id": "JB17da_bSMLm"
      },
      "outputs": [],
      "source": [
        "from vit_grad_rollout import VITAttentionGradRollout\n",
        "\n",
        "grad_rollout = VITAttentionGradRollout(model, discard_ratio=0.9, head_fusion='max')\n",
        "mask = grad_rollout(input_tensor, category_index=243)"
      ]
    },
    {
      "cell_type": "markdown",
      "metadata": {
        "id": "ManTI951S2l6"
      },
      "source": [
        "Okay, this doesn't want to work with Colab, so I try to pack the Command Line version in a command and extract images from it."
      ]
    },
    {
      "cell_type": "code",
      "execution_count": null,
      "metadata": {
        "id": "tR-UXtpvS8K6"
      },
      "outputs": [],
      "source": [
        "import subprocess\n",
        "\n",
        "# Set the arguments for the command\n",
        "image_path = \"street_view_11.jpg\"\n",
        "head_fusion = 'max'\n",
        "discard_ratio = 0.85\n",
        "category_index = 1\n",
        "\n",
        "# Construct the command as a list of strings\n",
        "command = ['python', 'vit_explain.py',\n",
        "           '--image_path', image_path,\n",
        "           '--head_fusion', head_fusion,\n",
        "           '--discard_ratio', str(discard_ratio),\n",
        "           '--category_index', str(category_index)]\n",
        "\n",
        "# Run the command and capture the output\n",
        "output = subprocess.check_output(command)\n",
        "\n",
        "# Print the output\n",
        "print(output)\n"
      ]
    },
    {
      "cell_type": "markdown",
      "metadata": {
        "id": "weDtsU22Uc6_"
      },
      "source": [
        "Okay, this part doesn't seem to work on Colab as of now, so I move to Jupyter. But I can load the model here again and experiment with it further. I might also fine-tune the model here further. "
      ]
    },
    {
      "cell_type": "markdown",
      "metadata": {
        "id": "U0osh1OcNUEE"
      },
      "source": [
        "# Gildenblat's post: his py file just in here to control what it does"
      ]
    },
    {
      "cell_type": "code",
      "execution_count": null,
      "metadata": {
        "id": "-gIy4SX-OU_D"
      },
      "outputs": [],
      "source": [
        "#to use the functions I have to import the pack:\n",
        "#!git clone https://github.com/jacobgil/vit-explain\n",
        "os.chdir('./vit-explain')"
      ]
    },
    {
      "cell_type": "markdown",
      "metadata": {
        "id": "L9SRuePFQi9R"
      },
      "source": [
        "Below is the function of Gildenblat's, but without running the file through the command line. And it imports the other his functions from the files. "
      ]
    },
    {
      "cell_type": "code",
      "execution_count": null,
      "metadata": {
        "id": "vVsZhVuURhXx"
      },
      "outputs": [],
      "source": [
        "print(os.getcwd())"
      ]
    },
    {
      "cell_type": "code",
      "execution_count": null,
      "metadata": {
        "id": "C_5X-uGRNltV"
      },
      "outputs": [],
      "source": [
        "import torch\n",
        "from PIL import Image\n",
        "from torchvision import transforms\n",
        "import numpy as np\n",
        "import cv2\n",
        "from vit_rollout import VITAttentionRollout\n",
        "from vit_grad_rollout import VITAttentionGradRollout\n",
        "\n",
        "def show_mask_on_image(img, mask):\n",
        "    img = np.float32(img) / 255\n",
        "    heatmap = cv2.applyColorMap(np.uint8(255 * mask), cv2.COLORMAP_JET)\n",
        "    heatmap = np.float32(heatmap) / 255\n",
        "    cam = heatmap + np.float32(img)\n",
        "    cam = cam / np.max(cam)\n",
        "    return np.uint8(255 * cam)\n",
        "\n",
        "def vit_explain(image_path, head_fusion, discard_ratio, category_index=None, use_cuda=False):\n",
        "\n",
        "    transform = transforms.Compose([\n",
        "        transforms.Resize((224, 224)),\n",
        "        transforms.ToTensor(),\n",
        "        transforms.Normalize(mean=[0.5, 0.5, 0.5], std=[0.5, 0.5, 0.5]),\n",
        "    ])\n",
        "    img = Image.open(image_path)\n",
        "    img = img.resize((224, 224))\n",
        "    input_tensor = transform(img).unsqueeze(0)\n",
        "    if use_cuda:\n",
        "        input_tensor = input_tensor.cuda()\n",
        "\n",
        "    if category_index is None:\n",
        "        print(\"Doing Attention Rollout\")\n",
        "        attention_rollout = VITAttentionRollout(model, head_fusion=head_fusion, discard_ratio=discard_ratio)\n",
        "        mask = attention_rollout(input_tensor)\n",
        "        name = \"attention_rollout_{:.3f}_{}.png\".format(discard_ratio, head_fusion)\n",
        "    else:\n",
        "        print(\"Doing Gradient Attention Rollout\")\n",
        "        grad_rollout = VITAttentionGradRollout(model, discard_ratio=discard_ratio)\n",
        "        mask = grad_rollout(input_tensor, category_index)\n",
        "        name = \"grad_rollout_{}_{:.3f}_{}.png\".format(category_index, discard_ratio, head_fusion)\n",
        "\n",
        "    np_img = np.array(img)[:, :, ::-1]\n",
        "    mask = cv2.resize(mask, (np_img.shape[1], np_img.shape[0]))\n",
        "    mask = show_mask_on_image(np_img, mask)\n",
        "    cv2.imshow(\"Input Image\", np_img)\n",
        "    cv2.imshow(name, mask)\n",
        "    cv2.imwrite(\"input.png\", np_img)\n",
        "    cv2.imwrite(name, mask)\n",
        "    cv2.waitKey(-1)\n",
        "\n",
        "vit_explain('../Only_San_Fran/street_view_11.jpg', 'max', 0.9, 1, True)\n"
      ]
    },
    {
      "cell_type": "markdown",
      "metadata": {
        "id": "PuVDP8yff19c"
      },
      "source": [
        "For this to work I, based on the suggestion of the chat, modified vit_grad_rollout.py's method __call__ so that it works with my single output node fine-tuned model instad of expecting one-hot-encoded predictions. "
      ]
    }
  ],
  "metadata": {
    "accelerator": "GPU",
    "colab": {
      "collapsed_sections": [
        "aqTsAieVRNbQ",
        "RmKZR8ZVAA37",
        "jNjNP3EDHdfm",
        "U0osh1OcNUEE"
      ],
      "provenance": []
    },
    "gpuClass": "standard",
    "kernelspec": {
      "display_name": "Python 3",
      "language": "python",
      "name": "python3"
    },
    "language_info": {
      "codemirror_mode": {
        "name": "ipython",
        "version": 3
      },
      "file_extension": ".py",
      "mimetype": "text/x-python",
      "name": "python",
      "nbconvert_exporter": "python",
      "pygments_lexer": "ipython3",
      "version": "3.8.5"
    }
  },
  "nbformat": 4,
  "nbformat_minor": 0
}